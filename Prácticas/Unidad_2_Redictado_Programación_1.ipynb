{
  "cells": [
    {
      "cell_type": "markdown",
      "metadata": {
        "id": "uS8xo0dbkFsu"
      },
      "source": [
        "# Unidad 3. Ejecución Condicional\n",
        "\n",
        "Sentencia if-else. Condiciones simples y compuestas. Anidamiento. Alternativas encadenadas (elif). Operador ternario"
      ]
    },
    {
      "cell_type": "markdown",
      "metadata": {
        "id": "5YtGU_ZAd-ie"
      },
      "source": [
        "####**Ejercicio 1.**\n",
        "Escribir un programa que pregunte al usuario su edad y muestre por pantalla si es mayor de edad o no.\n",
        "\n"
      ]
    },
    {
      "cell_type": "code",
      "execution_count": 2,
      "metadata": {
        "id": "GlP-wYoweHgq"
      },
      "outputs": [
        {
          "name": "stdout",
          "output_type": "stream",
          "text": [
            "Es menor de edad, tiene 15 años\n"
          ]
        }
      ],
      "source": [
        "edad=int(input(\"Ingrese su edad\"))\n",
        "if edad>17:\n",
        "    print(f'Es mayor de edad, tiene {edad} años')\n",
        "else:\n",
        "    print(f'Es menor de edad, tiene {edad} años')"
      ]
    },
    {
      "cell_type": "markdown",
      "metadata": {
        "id": "cUwwcZ5VeTyB"
      },
      "source": [
        "####**Ejercicio 2.**\n",
        "\n",
        "Escribir un programa que almacene la cadena de caracteres 'pepito' en una variable, pregunte al usuario por la contraseña e imprima por pantalla si la contraseña introducida por el usuario coincide con la guardada en la variable sin tener en cuenta mayúsculas y minúsculas."
      ]
    },
    {
      "cell_type": "code",
      "execution_count": 8,
      "metadata": {
        "id": "_6S2jzIyeYmu"
      },
      "outputs": [
        {
          "name": "stdout",
          "output_type": "stream",
          "text": [
            "La contraseñas coinciden\n"
          ]
        }
      ],
      "source": [
        "cadena='pepito'\n",
        "pw=input('Ingrese contraseña').lower()\n",
        "if pw==cadena:\n",
        "    print(f'La contraseñas coinciden')\n",
        "else:\n",
        "    print(f'Contraseña INCORRECTA')"
      ]
    },
    {
      "cell_type": "markdown",
      "metadata": {
        "id": "vVFWsF99kHfR"
      },
      "source": [
        "####**Ejercicio 3.**\n",
        "\n",
        "Desarrollar un programa que permita verificar la seguridad de una contraseña ingresada por el usuario. El programa debe realizar las siguientes comprobaciones:\n"
      ]
    },
    {
      "cell_type": "markdown",
      "metadata": {
        "id": "uvplYZaEkpj3"
      },
      "source": [
        "``` python\n",
        "a. Longitud superior a 8 caracteres e inferior a 16.\n",
        "```"
      ]
    },
    {
      "cell_type": "code",
      "execution_count": 10,
      "metadata": {
        "id": "uihTwo6pjXAf"
      },
      "outputs": [
        {
          "name": "stdout",
          "output_type": "stream",
          "text": [
            "Ingrese contraseña entre 8 y 16 caracteres\n"
          ]
        }
      ],
      "source": [
        "pw=input('Ingrese la contraseña')\n",
        "if 8<len(pw)<16:\n",
        "    print(f'Longitud contraseña correcta')\n",
        "else:\n",
        "    print(f'Ingrese contraseña entre 8 y 16 caracteres')"
      ]
    },
    {
      "cell_type": "markdown",
      "metadata": {
        "id": "GZjPiGO6krgU"
      },
      "source": [
        "``` python\n",
        "b. Contiene al menos un caracter especial\n",
        "```"
      ]
    },
    {
      "cell_type": "code",
      "execution_count": null,
      "metadata": {
        "id": "GUmBPdJPlIpj"
      },
      "outputs": [
        {
          "name": "stdout",
          "output_type": "stream",
          "text": [
            "La contraseña contine 1 caracteres especiales\n"
          ]
        }
      ],
      "source": [
        "caracteres_especiales ='!@#$%^&*_.?'\n",
        "pw=input('Ingrese la contraseña')\n",
        "cont1=0\n",
        "for c in pw:\n",
        "    if c in caracteres_especiales:\n",
        "        cont+=1\n",
        "if cont>0:\n",
        "    print(f'La contraseña contine {cont} caracteres especiales')\n",
        "else:\n",
        "    print(f'Contraseña sin caracteres especiales. Reingrese')"
      ]
    },
    {
      "cell_type": "markdown",
      "metadata": {
        "id": "ctLayJtPlZIO"
      },
      "source": [
        "``` python\n",
        "c. Contiene al menos un número\n",
        "```"
      ]
    },
    {
      "cell_type": "code",
      "execution_count": null,
      "metadata": {
        "id": "NYba4DBalilQ"
      },
      "outputs": [
        {
          "name": "stdout",
          "output_type": "stream",
          "text": [
            "Contraseña sin numeros. Reingrese\n"
          ]
        }
      ],
      "source": [
        "numeros = '0123456789'\n",
        "pw=input('Ingrese la contraseña')\n",
        "cont2=0\n",
        "for c in pw:\n",
        "    if c in numeros:\n",
        "        cont+=1\n",
        "if cont>0:\n",
        "    print(f'La contraseña contine {cont} numeros')\n",
        "else:\n",
        "    print(f'Contraseña sin numeros. Reingrese')"
      ]
    },
    {
      "cell_type": "markdown",
      "metadata": {
        "id": "qU1sOJVwloQz"
      },
      "source": [
        "El programa debe informar al usuario si la contraseña cumple con estos requisitos de seguridad o no."
      ]
    },
    {
      "cell_type": "code",
      "execution_count": 15,
      "metadata": {},
      "outputs": [
        {
          "name": "stdout",
          "output_type": "stream",
          "text": [
            "Contraseña sin caracteres especiales. Reingrese\n",
            "La contraseña contine 8 numeros\n",
            "Longitud contraseña correcta\n"
          ]
        }
      ],
      "source": [
        "pw=input('Ingrese la contraseña')\n",
        "cont1=0\n",
        "for c in pw:\n",
        "    if c in caracteres_especiales:\n",
        "        cont+=1\n",
        "if cont>0:\n",
        "    print(f'La contraseña contine {cont} caracteres especiales')\n",
        "else:\n",
        "    print(f'Contraseña sin caracteres especiales. Reingrese')\n",
        "cont2=0\n",
        "for c in pw:\n",
        "    if c in numeros:\n",
        "        cont+=1\n",
        "if cont>0:\n",
        "    print(f'La contraseña contine {cont} numeros')\n",
        "else:\n",
        "    print(f'Contraseña sin numeros. Reingrese')\n",
        "if 8<len(pw)<16:\n",
        "    print(f'Longitud contraseña correcta')\n",
        "else:\n",
        "    print(f'Ingrese contraseña entre 8 y 16 caracteres')"
      ]
    },
    {
      "cell_type": "markdown",
      "metadata": {
        "id": "ymmSdBfMf0w2"
      },
      "source": [
        "**Ejercicio 4.**\n",
        "Escribir un programa para una empresa que tiene salas de juegos para todas las edades y quiere calcular de forma automática el precio que debe cobrar a sus clientes por entrar. El programa debe preguntar al usuario la edad del cliente y mostrar el precio de la entrada. Si el cliente es menor de 4 años puede entrar gratis, si tiene entre 4 y 18 años debe pagar 500 pesos y si es mayor de 18 años, 800 pesos."
      ]
    },
    {
      "cell_type": "code",
      "execution_count": 19,
      "metadata": {
        "id": "EL1w2Za9f2MW"
      },
      "outputs": [
        {
          "name": "stdout",
          "output_type": "stream",
          "text": [
            "La entrada sale $500\n"
          ]
        }
      ],
      "source": [
        "edad=int(input('Ingrese la edad'))\n",
        "if edad<4:\n",
        "    print('Ingresa gratis')\n",
        "elif edad>18:\n",
        "    print('La entrada cuesta $800')\n",
        "else:\n",
        "    print('La entrada sale $500')"
      ]
    },
    {
      "cell_type": "markdown",
      "metadata": {
        "id": "Ac5aVPsmrvGV"
      },
      "source": [
        "####**Ejercicio 5.**\n",
        "Dados 3 lados de un triángulo, informar si el mismo es equilátero, isósceles o escaleno."
      ]
    },
    {
      "cell_type": "code",
      "execution_count": 22,
      "metadata": {
        "id": "O-ji4HbUsNXT"
      },
      "outputs": [
        {
          "name": "stdout",
          "output_type": "stream",
          "text": [
            "EQUILATERO\n"
          ]
        }
      ],
      "source": [
        "l1=float(input('Ingrese lado 1'))\n",
        "l2=float(input('Ingrese lado 2'))\n",
        "l3=float(input('Ingrese lado 3'))\n",
        "if l1==l2==l3:\n",
        "    print('EQUILATERO')\n",
        "elif l1!=l2 and l2!=l3:\n",
        "    print('Es Escaleno')\n",
        "else:\n",
        "    print('Es Isosceles')\n"
      ]
    },
    {
      "cell_type": "markdown",
      "metadata": {
        "id": "k17LA22lsOHs"
      },
      "source": [
        "####**Ejercicio 6.**\n",
        "Dada la nota de un parcial se quiere saber en que condición está el alumno.\n",
        "\n",
        "* Si la nota no está entre 0 y 10: 'nota inválida'.\n",
        "* Si la nota es mayor o igual a 0 y menor a 6: 'desaprobado'.\n",
        "* Si la nota es mayor igual a 6 se debe mostrar en pantalla un mensaje que diga 'aprobado'."
      ]
    },
    {
      "cell_type": "code",
      "execution_count": 27,
      "metadata": {
        "id": "lVi-hkADsSbz"
      },
      "outputs": [
        {
          "name": "stdout",
          "output_type": "stream",
          "text": [
            "Nota invalida\n"
          ]
        }
      ],
      "source": [
        "nota=float(input('Ingrese nota'))\n",
        "if 10>nota or nota<0:\n",
        "    print('Nota invalida')\n",
        "elif 0<=nota<6:\n",
        "    print('desaprobado')\n",
        "else:\n",
        "    print('Aprobado')\n"
      ]
    },
    {
      "cell_type": "markdown",
      "metadata": {
        "id": "0_vkIwDzmwjK"
      },
      "source": [
        "####**Ejercicio 7.**\n",
        "\n",
        "Una marca de ropa tienen descuentos diferentes dependiendo de la sede del local:\n",
        "\n",
        "| Item        | Rosario | Funes  | Roldan |\n",
        "| ----------- | ------- | ------ | ------ |\n",
        "| Zapatillas  | 30%     | 40%    | 25%    |\n",
        "| Remeras     | 20%     | 30%    | 15%    |\n",
        "| Pantalones  | 10%     | 5%     | 20%    |\n",
        "\n",
        "\n",
        "Dado un item y la sede del local, devolver el descuento que recibe."
      ]
    },
    {
      "cell_type": "code",
      "execution_count": 28,
      "metadata": {
        "id": "SBfHoTlGrg5M"
      },
      "outputs": [
        {
          "name": "stdout",
          "output_type": "stream",
          "text": [
            "El descuento para Zapatillas en la sede Rosario es de 30%\n"
          ]
        }
      ],
      "source": [
        "item=input('Ingrese el item de ropa (Zapatillas/Remeras/Pantalones): ').capitalize()\n",
        "sede=input('Ingrese la sede (Rosario/Funes/Roldan): ').capitalize()\n",
        "descuentos= {'Zapatillas': {'Rosario': 30, 'Funes': 40, 'Roldan': 25}, 'Remeras': {'Rosario': 20, 'Funes': 30, 'Roldan': 15}, 'Pantalones': {'Rosario': 10, 'Funes': 5, 'Roldan': 20}}\n",
        "if item in descuentos and sede in descuentos[item]:\n",
        "    print(f'El descuento para {item} en la sede {sede} es de {descuentos[item][sede]}%') #descuentos[\"Zapatillas\"][\"Rosario\"])  # 30\n",
        "else:\n",
        "    print('Error sede o item no encontrado')"
      ]
    },
    {
      "cell_type": "markdown",
      "metadata": {
        "id": "PeES9HB8ndq6"
      },
      "source": [
        "####**Ejercicio 8.**\n",
        "\n",
        "Ahora, supongamos que además dependiendo del día de la semana se puede recibir un descuento adicional acumulable. Es decir, si se recibió un descuento del 10 % según el item y la sede y la compra\n",
        "se realiza un lunes, el descuento total será un 20 % .\n",
        "Escribir un programa en el que la persona pueda ingresar el día de la semana, el item a comprar y la sede del local. Luego, informar el descuento total a recibir. Utilizar la siguiente tabla de descuentos:\n",
        "\n",
        "|         | Lunes  | Miércoles | Jueves |\n",
        "|---------|-------|-----------|--------|\n",
        "| Descuento | 10%   | 8%        | 5%     |\n"
      ]
    },
    {
      "cell_type": "code",
      "execution_count": 35,
      "metadata": {
        "id": "gXTTgMccq-pX"
      },
      "outputs": [
        {
          "name": "stdout",
          "output_type": "stream",
          "text": [
            "El descuento base para Remeras en la sede Funes es 30% y con un descuento de los Jueves es 5% adicional. Descuento total es 35%\n"
          ]
        }
      ],
      "source": [
        "descuentos= {'Zapatillas': {'Rosario': 30, 'Funes': 40, 'Roldan': 25}, 'Remeras': {'Rosario': 20, 'Funes': 30, 'Roldan': 15}, 'Pantalones': {'Rosario': 10, 'Funes': 5, 'Roldan': 20}}\n",
        "item=input('Ingrese el item de ropa (Zapatillas/Remeras/Pantalones): ').capitalize()\n",
        "sede=input('Ingrese la sede (Rosario/Funes/Roldan): ').capitalize()\n",
        "dia=input('Ingrese el dia de la compra: ').capitalize()\n",
        "descdia= {'Lunes':10, 'Martes':0, 'Miercoles':8, 'Jueves':5, 'Viernes':0}\n",
        "total=descuentos[item][sede]+descdia[dia]\n",
        "print(f'El descuento base para {item} en la sede {sede} es {descuentos[item][sede]}% y con un descuento de los {dia} es {descdia[dia]}% adicional. Descuento total es {total}%')"
      ]
    },
    {
      "cell_type": "code",
      "execution_count": null,
      "metadata": {},
      "outputs": [],
      "source": []
    }
  ],
  "metadata": {
    "colab": {
      "provenance": []
    },
    "kernelspec": {
      "display_name": "Python 3",
      "name": "python3"
    },
    "language_info": {
      "codemirror_mode": {
        "name": "ipython",
        "version": 3
      },
      "file_extension": ".py",
      "mimetype": "text/x-python",
      "name": "python",
      "nbconvert_exporter": "python",
      "pygments_lexer": "ipython3",
      "version": "3.12.7"
    }
  },
  "nbformat": 4,
  "nbformat_minor": 0
}
