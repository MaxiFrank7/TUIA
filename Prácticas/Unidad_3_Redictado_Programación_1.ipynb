{
  "cells": [
    {
      "cell_type": "markdown",
      "metadata": {
        "id": "ycTC5aVYw1m7"
      },
      "source": [
        "# Unidad 4 | Construcciones iterativas\n",
        "Concepto de bucle. Sentencia for. Sentencia while. Ciclos definidos. Sentencia range. Ciclos indefinidos. Ciclo interactivo. Ciclo con centinela. Control de ciclos: sentencias break, continue y pass."
      ]
    },
    {
      "cell_type": "markdown",
      "metadata": {
        "id": "bEMAv8ioYHWV"
      },
      "source": [
        "####**Ejercicio 1.**\n",
        "Imprimir los primeros 20 números naturales.\n"
      ]
    },
    {
      "cell_type": "code",
      "execution_count": 1,
      "metadata": {
        "id": "VKIcJ30UZcQ5"
      },
      "outputs": [
        {
          "name": "stdout",
          "output_type": "stream",
          "text": [
            "1\n",
            "2\n",
            "3\n",
            "4\n",
            "5\n",
            "6\n",
            "7\n",
            "8\n",
            "9\n",
            "10\n",
            "11\n",
            "12\n",
            "13\n",
            "14\n",
            "15\n",
            "16\n",
            "17\n",
            "18\n",
            "19\n",
            "20\n"
          ]
        }
      ],
      "source": [
        "for i in range(1,21):\n",
        "    print(i)"
      ]
    },
    {
      "cell_type": "markdown",
      "metadata": {
        "id": "rn5V2lbtYcfZ"
      },
      "source": [
        "####**Ejercicio 2.**\n",
        "Imprimir la tabla de multiplicar del número 5."
      ]
    },
    {
      "cell_type": "code",
      "execution_count": 4,
      "metadata": {
        "id": "j6cEAkiCb1_y"
      },
      "outputs": [
        {
          "name": "stdout",
          "output_type": "stream",
          "text": [
            "5 x 1 = 5\n",
            "5 x 2 = 10\n",
            "5 x 3 = 15\n",
            "5 x 4 = 20\n",
            "5 x 5 = 25\n",
            "5 x 6 = 30\n",
            "5 x 7 = 35\n",
            "5 x 8 = 40\n",
            "5 x 9 = 45\n",
            "5 x 10 = 50\n"
          ]
        }
      ],
      "source": [
        "for i in range(1,11):\n",
        "    print(f'5 x {i} = {5*i}')"
      ]
    },
    {
      "cell_type": "markdown",
      "metadata": {
        "id": "lc3sMoVxYfbE"
      },
      "source": [
        "####**Ejercicio 3.**\n",
        "Imprima los números de -10 a -1."
      ]
    },
    {
      "cell_type": "code",
      "execution_count": 6,
      "metadata": {
        "id": "u7lH11lPZdbo"
      },
      "outputs": [
        {
          "name": "stdout",
          "output_type": "stream",
          "text": [
            "-10\n",
            "-9\n",
            "-8\n",
            "-7\n",
            "-6\n",
            "-5\n",
            "-4\n",
            "-3\n",
            "-2\n",
            "-1\n"
          ]
        }
      ],
      "source": [
        "for i in range(-10,0):\n",
        "    print(i)"
      ]
    },
    {
      "cell_type": "markdown",
      "metadata": {
        "id": "vfuXwZ5qYhUx"
      },
      "source": [
        "####**Ejercicio 4.**\n",
        "Dada la siguiente secuencia de números:\n",
        "\n",
        "```python\n",
        "numeros = [12 , 75 , 150 , 180 , 145 , 525 , 50]\n",
        "```\n",
        "imprimir aquellos divisibles por 5 y menores a 150."
      ]
    },
    {
      "cell_type": "code",
      "execution_count": 7,
      "metadata": {
        "id": "xUZQuAfkZeFi"
      },
      "outputs": [
        {
          "name": "stdout",
          "output_type": "stream",
          "text": [
            "75\n",
            "145\n",
            "50\n"
          ]
        }
      ],
      "source": [
        "numeros=[12,75,150,180,145,525,50]\n",
        "for n in numeros:\n",
        "    if n%5==0 and n<150:\n",
        "        print(n)"
      ]
    },
    {
      "cell_type": "markdown",
      "metadata": {
        "id": "Fnu8NoZIYjO6"
      },
      "source": [
        "####**Ejercicio 5.**\n",
        "Imprimir los primeros 10 valores de la secuencia de Fibonacci. La secuencia de Fibonacci es una serie\n",
        "de números en la cual los dos primeros números son 0 y 1, y el siguiente número se corresponde a la\n",
        "suma de los dos números anteriores.\n",
        "Resultado esperado: 0 1 1 2 3 5 8 13 21 34"
      ]
    },
    {
      "cell_type": "code",
      "execution_count": 11,
      "metadata": {
        "id": "Z9Psha73ZegV"
      },
      "outputs": [
        {
          "name": "stdout",
          "output_type": "stream",
          "text": [
            "0\n",
            "1\n",
            "1\n",
            "2\n",
            "3\n",
            "5\n",
            "8\n",
            "13\n",
            "21\n",
            "34\n"
          ]
        }
      ],
      "source": [
        "a=0\n",
        "b=1\n",
        "print(a)\n",
        "print(b)\n",
        "for i in range(8):\n",
        "    suma=a+b\n",
        "    a=b\n",
        "    b=suma\n",
        "    print(suma)"
      ]
    },
    {
      "cell_type": "markdown",
      "metadata": {
        "id": "PPWUyzpOYmUQ"
      },
      "source": [
        "####**Ejercicio 6.**\n",
        "Imprimir el valor factorial del número 5 usando un bucle. El valor factorial (símbolo: !) se obtiene de\n",
        "multiplicar todos los números enteros desde el número elegido hasta 1.\n",
        "Resultado esperado: 120"
      ]
    },
    {
      "cell_type": "code",
      "execution_count": 13,
      "metadata": {
        "id": "eV_1fjqZZe8S"
      },
      "outputs": [
        {
          "name": "stdout",
          "output_type": "stream",
          "text": [
            "1\n",
            "2\n",
            "6\n",
            "24\n",
            "120\n"
          ]
        }
      ],
      "source": [
        "fact=1\n",
        "for i in range(1,6):\n",
        "    fact=fact*i\n",
        "    print(fact)"
      ]
    },
    {
      "cell_type": "markdown",
      "metadata": {
        "id": "G8VjXb2aYoH9"
      },
      "source": [
        "####**Ejercicio 7.**\n",
        "Explique el resultado de los siguientes programas\n",
        "```python\n",
        "a.  lista = []\n",
        "    for j in lista :\n",
        "        print ( j )\n",
        "```\n",
        "```python\n",
        "b.  i = 1\n",
        "    for i in [1 , 2 , 3]:\n",
        "      print ( i )\n",
        "    print ( i )\n",
        "```"
      ]
    },
    {
      "cell_type": "code",
      "execution_count": null,
      "metadata": {
        "id": "uxr2MEeyZf14"
      },
      "outputs": [],
      "source": []
    },
    {
      "cell_type": "markdown",
      "metadata": {
        "id": "RhG2JGWUYpVt"
      },
      "source": [
        "####**Ejercicio 8.**\n",
        "Resuelva los siguientes ejercicios:\n",
        "\n",
        "a. Calcular el cuadrado de los primeros 10 números enteros positivos.\n",
        "\n",
        "b. Calcular la suma de los números enteros entre 0 y 100 inclusive.\n",
        "\n",
        "c. Calcular la suma de los números pares menores a 100. ¿Cuántos números pares hay menores a\n",
        "100?\n",
        "\n",
        "d. Calcular la suma de los números impares menores a 100. ¿Cuántos números impares hay menores\n",
        "a 100?"
      ]
    },
    {
      "cell_type": "code",
      "execution_count": null,
      "metadata": {
        "id": "j271WG01Zgi4"
      },
      "outputs": [
        {
          "name": "stdout",
          "output_type": "stream",
          "text": [
            "La cantidad de numeros pares es 50 y su suma da 2550\n",
            "La cantidad de numeros impares es 50 y su suma da 2500\n"
          ]
        }
      ],
      "source": [
        "#for i in range(11):\n",
        "    #cuadr=i*i\n",
        "    #print(f'el cuadrado de {i} es {cuadr}')\n",
        "##############################################\n",
        "suma=0\n",
        "for i in range(101):\n",
        "    suma+=i\n",
        "print(f'La suma de los enteros del 1 al 100 es {suma}')\n",
        "##############################################\n",
        "par=0\n",
        "sumapar=0\n",
        "impar=0\n",
        "sumaimpar=0\n",
        "for i in range(1,101):\n",
        "    if i%2==0:\n",
        "        par+=1\n",
        "        sumapar+=i\n",
        "    else:\n",
        "        impar+=1\n",
        "        sumaimpar+=i\n",
        "print(f'La cantidad de numeros pares es {par} y su suma da {sumapar}')\n",
        "print(f'La cantidad de numeros impares es {impar} y su suma da {sumaimpar}') "
      ]
    },
    {
      "cell_type": "markdown",
      "metadata": {
        "id": "G9wxFsZkYq1U"
      },
      "source": [
        "####**Ejercicio 9.**\n",
        "¿Cuál es el problema asociado al siguiente programa? No hace falta ejecutarlo para responder esta pregunta.\n",
        "\n",
        "```python\n",
        "x = 0\n",
        "while x < 5:\n",
        "    print ( x )\n",
        "```"
      ]
    },
    {
      "cell_type": "code",
      "execution_count": null,
      "metadata": {
        "id": "ZTTrutlmfWoy"
      },
      "outputs": [],
      "source": [
        "\"El problema es que x nunca cambia, por lo que x < 5 siempre es True\""
      ]
    },
    {
      "cell_type": "markdown",
      "metadata": {
        "id": "EXh6AanSYsBJ"
      },
      "source": [
        "####**Ejercicio 10.**\n",
        "Escriba un programa que dada una secuencia de números y un valor de umbral vaya sumando los\n",
        "números de la secuencia hasta que la suma alcance el umbral. Utilice ```break``` para terminar la ejecución\n",
        "del bucle cuando la suma alcance el umbral.\n",
        "\n",
        "Resultados esperados:\n",
        "```python\n",
        "umbral = 21\n",
        "valores = [3 , 5 , 4 , 4 , 5 , 5 , 3 , 5 , 2 , 7]\n",
        "# suma -> 21\n",
        "\n",
        "umbral = 34\n",
        "valores = [3 , 5 , 4 , 4 , 5 , 5 , 3 , 5 , 2 , 7]\n",
        "# suma -> 34\n",
        "\n",
        "umbral = 100\n",
        "valores = [3 , 5 , 4 , 4 , 5 , 5 , 3 , 5 , 2 , 7]\n",
        "# suma -> 43\n",
        "```"
      ]
    },
    {
      "cell_type": "code",
      "execution_count": 35,
      "metadata": {
        "colab": {
          "base_uri": "https://localhost:8080/"
        },
        "id": "r0I-3N2PZjTQ",
        "outputId": "bc68d871-8521-48f6-cb51-c9ae7f7fefce"
      },
      "outputs": [
        {
          "name": "stdout",
          "output_type": "stream",
          "text": [
            "para el umbral 100 la suma es 43\n"
          ]
        }
      ],
      "source": [
        "valores=[3,5,4,4,5,5,3,5,2,7]\n",
        "suma=0\n",
        "umbral=100\n",
        "for val in valores:\n",
        "    if suma<umbral:\n",
        "        suma+=val\n",
        "    else:\n",
        "        print(val)\n",
        "        break\n",
        "print(f'para el umbral {umbral} la suma es {suma}')\n"
      ]
    },
    {
      "cell_type": "markdown",
      "metadata": {
        "id": "ky5BFKmfYtWh"
      },
      "source": [
        "####**Ejercicio 11.**\n",
        "Escriba un programa que dada una secuencia numérica compute la suma de los números pares. Utilice\n",
        "un bucle ```while``` y la sentencia ```continue``` para saltear los casos donde el número no sea par.\n",
        "\n",
        "Resultados esperados:\n",
        "\n",
        "```python\n",
        "valores = [1 , 2 , 3 , 4 , 5 , 6 , 7 , 8 , 9 , 10]\n",
        "# suma -> 30\n",
        "\n",
        "valores = [1 , 4 , 7 , 10]\n",
        "# suma -> 14\n",
        "```"
      ]
    },
    {
      "cell_type": "code",
      "execution_count": 46,
      "metadata": {
        "id": "7ki86azSZj87"
      },
      "outputs": [
        {
          "name": "stdout",
          "output_type": "stream",
          "text": [
            "La suma de los pares es 14\n"
          ]
        }
      ],
      "source": [
        "valores=[1,4,7,10]\n",
        "suma=0\n",
        "i=0\n",
        "while i<len(valores):\n",
        "    if valores[i]%2==0:\n",
        "        suma+=valores[i]\n",
        "        i+=1\n",
        "    else:\n",
        "        i+=1\n",
        "        continue\n",
        "print(f'La suma de los pares es {suma}')"
      ]
    },
    {
      "cell_type": "markdown",
      "metadata": {
        "id": "BKCmZRcsYupZ"
      },
      "source": [
        "####**Ejercicio 12.**\n",
        "Escriba un programa que solicite un número entero al usuario y compute la suma de todos los números\n",
        "naturales menores a él. Este programa debe ser interactivo. Es decir, el programa solicita un numero al usuario, devuelve la suma, y solicita un nuevo número. Esto continúa así hasta que el usuario ingresa ```\"salir\"```, determinando que el programa debe terminar. Utilice un bucle ```while``` para resolver este problema. Tenga en cuenta la sentencia ```break``` para determinar la interrupción del bucle.\n",
        "Ejemplos:\n",
        "\n",
        "```python\n",
        "Ingrese un número o 'salir' para terminar : 10\n",
        "La suma es 45\n",
        "Ingrese un número o 'salir' para terminar : 50\n",
        "La suma es 1225\n",
        "Ingrese un número o 'salir' para terminar : salir\n",
        "```\n"
      ]
    },
    {
      "cell_type": "code",
      "execution_count": 80,
      "metadata": {
        "id": "l_f6T2UzZkpO"
      },
      "outputs": [
        {
          "name": "stdout",
          "output_type": "stream",
          "text": [
            "Finalizado.\n"
          ]
        }
      ],
      "source": [
        "num=input('Ingrese numero: (* para terminar)')\n",
        "while True:\n",
        "    suma=0 #reinicia la suma cada vez que se ingresa un numero\n",
        "    if num=='*':\n",
        "        print('Finalizado.')\n",
        "        break\n",
        "    else:\n",
        "        for i in range(1,int(num)):\n",
        "            suma+=i\n",
        "    print(f'La suma de los enteros menores a {num} es {suma}')\n",
        "    num=input('Quiere ingresar nuevo numero? (* para terminar)')"
      ]
    },
    {
      "cell_type": "markdown",
      "metadata": {
        "id": "yC69ZQ4HYvwk"
      },
      "source": [
        "####**Ejercicio 13.**\n",
        "Una mañana ponés un billete en la vereda al lado del Monumento a la Bandera. A partir de ahí, cada\n",
        "día vas y duplicás la cantidad de billetes, apilándolos prolijamente. ¿Cuánto tiempo pasa antes de que la pila de billetes sea más alta que la del Monumento? Considere los siguientes valores para comenzar a resolver el problema:\n",
        "\n",
        "```python\n",
        "billete_grosor = 0.11 * 0.001  # grosor de un billete en metros\n",
        "altura_monumento = 70 # altura en metros\n",
        "billetes_n = 1\n",
        "dia = 1\n",
        "```\n",
        "\n",
        "Utilice un bucle ```while``` para resolver el problema."
      ]
    },
    {
      "cell_type": "code",
      "execution_count": 64,
      "metadata": {
        "id": "dPNpXIoUZlWC"
      },
      "outputs": [
        {
          "name": "stdout",
          "output_type": "stream",
          "text": [
            "La cantidad total de billetes es 1048576 y pasaron 21 dias para que tenga una pila de 115.34336m\n"
          ]
        }
      ],
      "source": [
        "dia=1\n",
        "billetes=1\n",
        "altura=70\n",
        "grosor=0.11*0.001\n",
        "while True:\n",
        "    pila=billetes*grosor\n",
        "    if altura>pila:\n",
        "        dia+=1\n",
        "        billetes*=2\n",
        "    else:\n",
        "        break\n",
        "print(f'La cantidad total de billetes es {billetes} y pasaron {dia} dias para que tenga una pila de {pila}m')\n"
      ]
    },
    {
      "cell_type": "markdown",
      "metadata": {
        "id": "MxwwrLOmYwy0"
      },
      "source": [
        "####**Ejercicio 14.**\n",
        "\n",
        "Escriba un programa que reciba dos números como parámetros, y compute cuántos múltiplos del primero\n",
        "hay, que sean menores que el segundo.\n",
        "\n",
        "a. Implementarla utilizando un ciclo for, desde el primer número hasta el segundo.\n",
        "\n",
        "b. Implementarla utilizando un ciclo while, que multiplique el primer número hasta que sea mayor\n",
        "que el segundo.\n",
        "\n",
        "c. Comparar ambas implementaciones: ¿Cuál es más clara? ¿Cuál realiza menos operaciones?"
      ]
    },
    {
      "cell_type": "code",
      "execution_count": 69,
      "metadata": {
        "id": "sBm3I1tKZmAG"
      },
      "outputs": [
        {
          "name": "stdout",
          "output_type": "stream",
          "text": [
            "La cantidad de multiplos con for es 9\n",
            "La cantidad de multiplos con while es 9\n"
          ]
        }
      ],
      "source": [
        "n1, n2= int(input('Ingrese primer numero: ')), int(input('Ingrese segundo numero: '))\n",
        "contf=0\n",
        "for i in range(n1, n2):\n",
        "    if i%n1==0:\n",
        "      contf+=1\n",
        "print(f'La cantidad de multiplos con for es {contf}')  \n",
        "contw=0\n",
        "mult=n1\n",
        "while mult<n2:\n",
        "   mult+=n1\n",
        "   contw+=1\n",
        "print(f'La cantidad de multiplos con while es {contw}') "
      ]
    },
    {
      "cell_type": "markdown",
      "metadata": {
        "id": "f8JBB9_p0rLp"
      },
      "source": [
        "####**Ejercicio 15.**\n",
        "Escribir un programa que tome como argumento una contraseña y verifique si coincide con 'Toto123'."
      ]
    },
    {
      "cell_type": "code",
      "execution_count": null,
      "metadata": {
        "id": "nSBqNS9dZuOp"
      },
      "outputs": [
        {
          "name": "stdout",
          "output_type": "stream",
          "text": [
            "Contraseña correcta: \n"
          ]
        }
      ],
      "source": [
        "pw=input('Ingrese contraseña: ')\n",
        "correcta='Toto123'\n",
        "if pw==correcta:\n",
        "    print('Contraseña correcta!')\n",
        "else:\n",
        "    print('Contraseña NO coinciden')"
      ]
    },
    {
      "cell_type": "markdown",
      "metadata": {
        "id": "mCZp55DHzkj7"
      },
      "source": [
        "**Ejercicio 15.1** Modificar el programa anterior para que, en caso de que la contraseña ingresada sea incorrecta, vuelva a pedirla hasta que el usuario la ingrese correctamente."
      ]
    },
    {
      "cell_type": "code",
      "execution_count": 73,
      "metadata": {
        "id": "JCybALOkZa4e"
      },
      "outputs": [
        {
          "name": "stdout",
          "output_type": "stream",
          "text": [
            "Contraseña incorrecta, por favor ingrese nuevamente\n",
            "Contraseña incorrecta, por favor ingrese nuevamente\n",
            "Contraseña incorrecta, por favor ingrese nuevamente\n",
            "Contraseña correcta!\n"
          ]
        }
      ],
      "source": [
        "correcta='Toto123'\n",
        "while True:\n",
        "   pw=input('Ingrese contraseña: ')\n",
        "   if pw!=correcta:\n",
        "       print('Contraseña incorrecta, por favor ingrese nuevamente')\n",
        "   else:\n",
        "       print('Contraseña correcta!')\n",
        "       break"
      ]
    },
    {
      "cell_type": "markdown",
      "metadata": {
        "id": "-sQ6m5AA1xzk"
      },
      "source": [
        "**Ejercicio 15.2** Restringir el programa para que sólo se pueda ingresar 3 veces mal la contraseña, si pasa eso, mostrar un mensaje indicando que se bloqueó la cuenta."
      ]
    },
    {
      "cell_type": "code",
      "execution_count": 78,
      "metadata": {
        "id": "bViTcZdDZaNx"
      },
      "outputs": [
        {
          "name": "stdout",
          "output_type": "stream",
          "text": [
            "Contraseña incorrecta, por favor ingrese nuevamente\n",
            "Contraseña incorrecta, por favor ingrese nuevamente\n",
            "3er intento incorrecto. Cuenta BLOQUEADA\n"
          ]
        }
      ],
      "source": [
        "correcta='Toto123'\n",
        "i=1\n",
        "while True:\n",
        "   pw=input('Ingrese contraseña: ')\n",
        "   if i<3 and pw!=correcta:\n",
        "       i+=1\n",
        "       print('Contraseña incorrecta, por favor ingrese nuevamente')\n",
        "   elif i==3 and pw!=correcta:\n",
        "       print('3er intento incorrecto. Cuenta BLOQUEADA')\n",
        "       break\n",
        "   else:\n",
        "       print('Contraseña correcta!')\n",
        "       break"
      ]
    },
    {
      "cell_type": "code",
      "execution_count": null,
      "metadata": {},
      "outputs": [],
      "source": []
    }
  ],
  "metadata": {
    "colab": {
      "provenance": []
    },
    "kernelspec": {
      "display_name": "Python 3",
      "name": "python3"
    },
    "language_info": {
      "codemirror_mode": {
        "name": "ipython",
        "version": 3
      },
      "file_extension": ".py",
      "mimetype": "text/x-python",
      "name": "python",
      "nbconvert_exporter": "python",
      "pygments_lexer": "ipython3",
      "version": "3.12.7"
    }
  },
  "nbformat": 4,
  "nbformat_minor": 0
}
