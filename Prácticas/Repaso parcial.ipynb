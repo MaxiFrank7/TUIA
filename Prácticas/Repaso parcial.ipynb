{
 "cells": [
  {
   "cell_type": "markdown",
   "id": "e9f74a02",
   "metadata": {},
   "source": [
    "**Ejercicio 1. Ejercicios de repaso** "
   ]
  },
  {
   "cell_type": "markdown",
   "id": "47434a6c",
   "metadata": {},
   "source": [
    "***1.1*** El bar de la facultad tiene diferentes tipos de men´u para el almuerzo: Estudiantil (E), Docente (D),\n",
    "Otro (O). Al finalizar el d´ıa se desea saber cu´antos men´ues de cada tipo se vendieron. Considerar 3\n",
    "opciones diferentes (3 algoritmos)\n",
    "\n"
   ]
  },
  {
   "cell_type": "markdown",
   "id": "2b9a92fe",
   "metadata": {},
   "source": [
    "a. Se vendieron 150 Men´ues."
   ]
  },
  {
   "cell_type": "code",
   "execution_count": null,
   "id": "88733f91",
   "metadata": {},
   "outputs": [
    {
     "name": "stdout",
     "output_type": "stream",
     "text": [
      "Se ingresaron 5 menus estudiantiles, 7 menus de docentes, 3 otro menus\n"
     ]
    }
   ],
   "source": [
    "menu=[]\n",
    "E=D=O=0\n",
    "for m in range(15):\n",
    "    tipo=input(f'Ingrese tipo de menu: (E:Estudiantil, D:Docente, O:Otro)').upper()\n",
    "    menu.append(tipo)\n",
    "\n",
    "for tipo in menu:\n",
    "    if tipo=='E':\n",
    "        E+=1\n",
    "    elif tipo=='D':\n",
    "        D+=1\n",
    "    elif tipo=='O':\n",
    "        O+=1\n",
    "total=E+D+O\n",
    "print(f'Se ingresaron {E} menus estudiantiles, {D} menus de docentes, {O} otro menus. En total {total} menus')\n",
    "\n",
    "    "
   ]
  },
  {
   "cell_type": "markdown",
   "id": "9cf99ccc",
   "metadata": {},
   "source": [
    "b. Se solicita al usuario que ingrese la cantidad."
   ]
  },
  {
   "cell_type": "code",
   "execution_count": 5,
   "id": "b5426bea",
   "metadata": {},
   "outputs": [
    {
     "name": "stdout",
     "output_type": "stream",
     "text": [
      "Se ingresaron 2 menus estudiantiles, 2 menus de docentes, 1 otro menus. En total 5 menus\n"
     ]
    }
   ],
   "source": [
    "menu=[]\n",
    "E=D=O=0\n",
    "cont=0\n",
    "cant=int(input(f'Ingrese cantidad de menus vendidos:'))\n",
    "while cont<cant:\n",
    "    tipo=input(f'Ingrese tipo de menu: (E:Estudiantil, D:Docente, O:Otro)').upper()\n",
    "    menu.append(tipo)\n",
    "    cont+=1\n",
    "\n",
    "for tipo in menu:\n",
    "    if tipo=='E':\n",
    "        E+=1\n",
    "    elif tipo=='D':\n",
    "        D+=1\n",
    "    elif tipo=='O':\n",
    "        O+=1\n",
    "total=E+D+O\n",
    "print(f'Se ingresaron {E} menus estudiantiles, {D} menus de docentes, {O} otro menus. En total {total} menus')"
   ]
  },
  {
   "cell_type": "markdown",
   "id": "d6385ebd",
   "metadata": {},
   "source": [
    "c. Se desconoce previamente la cantidad. Dise˜ne un fin de datos."
   ]
  },
  {
   "cell_type": "code",
   "execution_count": null,
   "id": "2de6d9ce",
   "metadata": {},
   "outputs": [
    {
     "name": "stdout",
     "output_type": "stream",
     "text": [
      "Se ingresaron 4 menus estudiantiles, 5 menus de docentes, 4 otro menus. En total 13 menus\n"
     ]
    }
   ],
   "source": [
    "menu=[]\n",
    "E=D=O=0\n",
    "tipo=input(f'Ingrese tipo de menu: (E:Estudiantil, D:Docente, O:Otro) (Enter p/salir)').upper()\n",
    "while tipo != '':\n",
    "    menu.append(tipo)\n",
    "    tipo=input(f'Ingrese tipo de menu: (E:Estudiantil, D:Docente, O:Otro) (Enter p/salir)').upper()\n",
    "\n",
    "for tipo in menu:\n",
    "    if tipo=='E':\n",
    "        E+=1\n",
    "    elif tipo=='D':\n",
    "        D+=1\n",
    "    elif tipo=='O':\n",
    "        O+=1\n",
    "total=E+D+O\n",
    "print(f'Se ingresaron {E} menus estudiantiles, {D} menus de docentes, {O} otro menus. En total {total} menus')"
   ]
  },
  {
   "cell_type": "markdown",
   "id": "bf5dc4d2",
   "metadata": {},
   "source": [
    "***1.2***  A los algoritmos del ejercicio anterior agregar el código necesario para la validación del tipo de menú.\n"
   ]
  },
  {
   "cell_type": "code",
   "execution_count": null,
   "id": "a8917fc9",
   "metadata": {},
   "outputs": [
    {
     "name": "stdout",
     "output_type": "stream",
     "text": [
      "El menu ingresado no es valido, ingrese E/D/O.\n",
      "El menu ingresado no es valido, ingrese E/D/O.\n",
      "\n",
      "Se ingresaron 3 menús estudiantiles, 3 menús docentes, 2 menús otros. En total: 8 menús.\n"
     ]
    }
   ],
   "source": [
    "menu=[]\n",
    "E=D=O=0\n",
    "tipo=input(f'Ingrese tipo de menu: (E:Estudiantil, D:Docente, O:Otro) (Enter p/salir)').upper()\n",
    "while tipo !='':\n",
    "    if tipo in ['E','D','O']: #validacion de datos\n",
    "        menu.append(tipo)\n",
    "    else:\n",
    "        print(f'El menu ingresado no es valido, ingrese E/D/O.') #validacion de datos\n",
    "    tipo=input(f'Ingrese tipo de menu: (E:Estudiantil, D:Docente, O:Otro) (Enter p/salir)').upper()\n",
    "\n",
    "for tipo in menu:\n",
    "    if tipo=='E':\n",
    "        E+=1\n",
    "    elif tipo=='D':\n",
    "        D+=1\n",
    "    elif tipo=='O':\n",
    "        O+=1\n",
    "\n",
    "total=E+D+O\n",
    "print(f'\\nSe ingresaron {E} menús estudiantiles, {D} menús docentes, {O} menús otros. En total: {total} menús.')"
   ]
  },
  {
   "cell_type": "markdown",
   "id": "b89e1ce2",
   "metadata": {},
   "source": [
    "***1.3*** A los algoritmos del ejercicio 1.1 agregar el c´odigo necesario para determinar la proporci´on de men´ues\n",
    "tipo Estudiantes respecto del total de vendidos."
   ]
  },
  {
   "cell_type": "code",
   "execution_count": null,
   "id": "cb4d5631",
   "metadata": {},
   "outputs": [
    {
     "name": "stdout",
     "output_type": "stream",
     "text": [
      "Se ingresaron 5 menus estudiantiles, 4 menus de docentes, 2 otro menus. En total 11 menus.\n",
      "El porcentaje de menus estudiantiles es 45.45%\n"
     ]
    }
   ],
   "source": [
    "menu=[]\n",
    "E=D=O=0\n",
    "tipo=input(f'Ingrese tipo de menu: (E:Estudiantil, D:Docente, O:Otro) (Enter p/salir)').upper()\n",
    "while tipo !='':\n",
    "    if tipo in ['E','D','O']:\n",
    "        menu.append(tipo)\n",
    "    else:\n",
    "        print(f'El menu ingresado no es valido, ingrese E/D/O.')\n",
    "    tipo=input(f'Ingrese tipo de menu: (E:Estudiantil, D:Docente, O:Otro) (Enter p/salir)').upper()\n",
    "\n",
    "for tipo in menu:\n",
    "    if tipo=='E':\n",
    "        E+=1\n",
    "    elif tipo=='D':\n",
    "        D+=1\n",
    "    elif tipo=='O':\n",
    "        O+=1\n",
    "total=E+D+O\n",
    "print(f'Se ingresaron {E} menus estudiantiles, {D} menus de docentes, {O} otro menus. En total {total} menus.\\nEl porcentaje de menus estudiantiles es {((E*100)/total):.2f}%')"
   ]
  },
  {
   "cell_type": "markdown",
   "id": "a9807af3",
   "metadata": {},
   "source": [
    "**Ejercicio 2. Globalizador**"
   ]
  },
  {
   "cell_type": "markdown",
   "id": "cc7957bd",
   "metadata": {},
   "source": [
    "2.1 Escribir un programa que permita analizar la informaci´on acerca del porcentaje de uso de diferentes\n",
    "soportes para videojuegos. El usuario ingresar´a por teclado el porcentaje para cada soporte, tal como\n",
    "se muestra en la siguiente planilla de ejemplo:\n",
    "\n",
    "Soporte //  Porcentaje de uso ( %)\n",
    "\n",
    "Celular //  14.2\n",
    "\n",
    "Tablet //   2.4\n",
    "\n",
    ".................\n",
    "\n",
    "PC      //  9.8\n",
    "\n",
    "Consola //  9.1\n",
    "\n",
    "El programa deber´a mostrar en pantalla el nombre del soporte m´as utilizado y el porcentaje que le\n",
    "corresponde.\n",
    "Para resolver este ejercicio se debe completar el siguiente c´odigo:"
   ]
  },
  {
   "cell_type": "code",
   "execution_count": 4,
   "id": "86d788c6",
   "metadata": {},
   "outputs": [
    {
     "name": "stdout",
     "output_type": "stream",
     "text": [
      "El soporte mas usado es Celular con 14.2%\n"
     ]
    }
   ],
   "source": [
    "def ingresoDeDatos () -> dict :\n",
    "    \"\"\"\n",
    "Esta funcion solicita al usuario que ingrese los datos presentados\n",
    "en la planilla y los devuelve en un diccionario .\n",
    "\"\"\"\n",
    "    dicc=dict()\n",
    "    sop=input(f'Ingrese el soporte para videojuegos: (Enter p/salir)')\n",
    "    while sop!='':\n",
    "        porc=float(input(f'Ingrese el porcentaje del soporte:'))\n",
    "        dicc[sop]=porc\n",
    "        sop=input(f'Ingrese nuevo soporte para videojuegos: (Enter p/salir)')\n",
    "    return dicc\n",
    "\n",
    "def soporte_mas_usado (datos:dict) -> tuple :\n",
    "    \"\"\"\n",
    "Esta funcion recibe un diccionario conteniendo los datos ingresados\n",
    "por el usuario y devuelve una tupla con el nombre del soporte\n",
    "mas utilizado y su porcentaje de uso.\n",
    "\"\"\"\n",
    "    cont=0\n",
    "    for sop,uso in datos.items():\n",
    "        if cont==0:\n",
    "            soporte_max=sop\n",
    "            uso_max=uso\n",
    "        elif uso>uso_max:\n",
    "            soporte_max=sop\n",
    "            uso_max=uso\n",
    "        cont+=1\n",
    "    return soporte_max , uso_max\n",
    "\n",
    "def principal () -> None :\n",
    "    \"\"\"\n",
    "Este es el programa principal\n",
    "\"\"\"\n",
    "# completar para responder a la consigna\n",
    "    datos=ingresoDeDatos()\n",
    "    soporte_max, uso_max= soporte_mas_usado(datos)\n",
    "    print(f'El soporte mas usado es {soporte_max} con {uso_max}%')\n",
    "\n",
    "principal () #con esta linea probamos el programa"
   ]
  },
  {
   "cell_type": "markdown",
   "id": "2d2a02f6",
   "metadata": {},
   "source": [
    "2.2 Escribir un programa que solicite informaci´on al usuario y devuelva un an´alisis de los datos ingresados.\n",
    "El usuario deber´a ingresar manualmente datos de un parcial de Programaci´on 1 similares a los de la\n",
    "siguiente planilla:\n",
    "\n",
    "Estudiante  //   Nota\n",
    "\n",
    "Joan Perez  //  10\n",
    "\n",
    "Marıa Luz Paz // 9\n",
    "\n",
    ". . . . . .\n",
    "\n",
    "Pablo Ortiga // 2\n",
    "\n",
    "Melina Solar // 7\n",
    "\n",
    "y mostrar en pantalla la nota promedio del parcial (teniendo en cuenta la informaci´on de todos los\n",
    "estudiantes ingresados por el usuario) y el o los nombres de los alumnos con la nota m´as alta.\n",
    "Para resolver este ejercicio se debe completar el siguiente c´odigo:"
   ]
  },
  {
   "cell_type": "code",
   "execution_count": null,
   "id": "6da4a8d8",
   "metadata": {},
   "outputs": [
    {
     "name": "stdout",
     "output_type": "stream",
     "text": [
      "\n",
      "Promedio general: 7.00\n",
      "Estudiantes con nota más alta: 10\n",
      "Joan Perez\n"
     ]
    }
   ],
   "source": [
    "def ingresoDeDatos () -> list :\n",
    "    \"\"\"\n",
    "Esta funcion solicita al usuario que ingrese los datos presentados\n",
    "en la planilla y devuelva una lista de tuplas , donde la primera\n",
    "componente es el nombre del estudiante y la segunda componente es\n",
    "la nota que obtuvo en el parcial\n",
    "\"\"\"\n",
    "    notas = list()\n",
    "    estudiante=input(f'Ingrese nombre y apellido del estudiante: (Enter para salir)')\n",
    "    while estudiante!= '':\n",
    "        nota=int(input(f'Ingrese nota del parcial: '))\n",
    "        notas.append((estudiante,nota))\n",
    "        estudiante=input(f'Ingrese nuevo nombre y apellido del estudiante: (Enter para salir)')\n",
    "    return notas\n",
    "\n",
    "def promMax ( listaNotas : list ) -> tuple :\n",
    "    \"\"\"\n",
    "Esta funcion recibe una lista de tuplas donde la primera componente\n",
    "es el nombre del estudiante y la segunda componente es la nota\n",
    "del estudiante en el parcial , y devuelve la nota promedio del\n",
    "curso y la nota mas alta del curso tambien\n",
    "\"\"\"\n",
    "# completar para responder a la consigna\n",
    "    suma=0\n",
    "    cont=0\n",
    "    notaMaxima=-1\n",
    "    for estudiante, nota in listaNotas:\n",
    "        cont+=1\n",
    "        suma+=nota\n",
    "        if nota>notaMaxima:\n",
    "            notaMaxima=nota \n",
    "        if cont!=0:\n",
    "            prom=suma/cont\n",
    "        else:\n",
    "            prom=None #no dividir por cero\n",
    "    return prom , notaMaxima\n",
    "\n",
    "def principal () -> None :\n",
    "    \"\"\"\n",
    "Este es el programa principal\n",
    "\"\"\"\n",
    "listaEstudiantes = ingresoDeDatos ()\n",
    "# completar para responder a la consigna\n",
    "# para imprimir el o los nombres de los estudiantes con mayor nota,\n",
    "# debera recorrer la lista y comparar\n",
    "promMax(listaEstudiantes)\n",
    "prom, notaMaxima= promMax(listaEstudiantes)\n",
    "print(f'\\nPromedio general: {prom:.2f}')\n",
    "print(f\"En la la siguiente lista estan los estudiantes con nota más alta: {notaMaxima}\")\n",
    "for estudiante,nota in listaEstudiantes:\n",
    "    if nota==notaMaxima:\n",
    "        print(f'{estudiante}')\n",
    "\n",
    "principal () #con esta linea probamos el programa"
   ]
  },
  {
   "cell_type": "markdown",
   "id": "5d3b750d",
   "metadata": {},
   "source": [
    "2.3 Una guarder´ıa canina lleva un detallado registro de las estad´ıas de cada una de las mascotas que cuida,\n",
    "incluyendo la informaci´on que se muestra en el siguiente ejemplo:\n",
    "\n",
    "Id de la mascota // Monto de la estad´ıa\n",
    "\n",
    "Toby20          // 4500.00\n",
    "\n",
    "Floki18         // 5000.00\n",
    "\n",
    "Luna22          // 8000.00\n",
    "\n",
    "Toby20          // 7000.00\n",
    "\n",
    "Toto19          // 5500.00\n",
    "\n",
    "... ...\n",
    "\n",
    "Se solicita crear un c´odigo que permita calcular los montos totales de estad´ıa para cada mascota, y el\n",
    "valor promedio de esos totales.\n",
    "\n",
    "Para resolver este ejercicio se debe completar el siguiente c´odigo:\n"
   ]
  },
  {
   "cell_type": "code",
   "execution_count": 2,
   "id": "170740ba",
   "metadata": {},
   "outputs": [
    {
     "name": "stdout",
     "output_type": "stream",
     "text": [
      "\n",
      "Total por mascota:\n",
      "Toby20: $11500.00\n",
      "Floki18: $5000.00\n",
      "Luna22: $8000.00\n",
      "Toto19: $5500.00\n",
      "El promedio es 7500.0\n"
     ]
    }
   ],
   "source": [
    "def ingresoDeDatos () -> list :\n",
    "    \"\"\"\n",
    "Esta funcion solicita al usuario que ingrese los datos de la\n",
    "planilla y devuelve una lista de tuplas , donde la primera\n",
    "componente es el identificador de la mascota y la segunda\n",
    "componente es el monto a abonar por la estad ´ıa.\n",
    "\"\"\"\n",
    "    lista = list()\n",
    "    id=input(f'Ingrese el nombre de la mascota: (Enter para salir)')\n",
    "    while id!='':\n",
    "        monto=int(input(f'Ingrese el monto de la estadia de la moscota:'))\n",
    "        lista.append((id,monto))\n",
    "        id=input(f'Ingrese nuevo nombre de la mascota: (Enter para salir)')\n",
    "    return lista\n",
    "\n",
    "def total_x_mascota ( registros : list ) -> dict :\n",
    "    \"\"\"\n",
    "Esta funcion recibe una lista de tuplas donde la primera componente\n",
    "es el identificador de la mascota y la segunda componente es el\n",
    "monto de estadia, y devuelve un diccionario con el identificador\n",
    "de la mascota como clave y el monto total a abonar por\n",
    "cada mascota\n",
    "\"\"\"\n",
    "    dicc =dict()\n",
    "    monto=0\n",
    "    for id, monto in registros:\n",
    "        if id in dicc:\n",
    "            dicc[id]+=monto\n",
    "        else:\n",
    "            dicc[id]=monto\n",
    "    return dicc\n",
    "\n",
    "def promedio ( totxmasc : dict ) -> float :\n",
    "    \"\"\"\n",
    "Esta funcion recibe un diccionario con el identificador de la\n",
    "mascota como clave y el monto total a abonar por cada mascota , y\n",
    "devuelve el promedio de todos los montos totales\n",
    "\"\"\"\n",
    "    suma=0\n",
    "    cont=0\n",
    "    for monto in totxmasc.values():\n",
    "        suma+=monto\n",
    "        cont+=1\n",
    "    if cont!=0:\n",
    "        prom=suma/cont\n",
    "    else:\n",
    "        prom=None #no dividir por cero\n",
    "    return prom\n",
    "\n",
    "def principal () -> None :\n",
    "    \"\"\"\n",
    "Este es el programa principal\n",
    "\"\"\"\n",
    "    datos = ingresoDeDatos ()\n",
    "    # Completar para responder a la consigna\n",
    "    dicc=total_x_mascota(datos)\n",
    "    print(f\"\\nTotal por mascota:\")\n",
    "    for mascota, total in dicc.items():\n",
    "        print(f'{mascota}: ${total:.2f}')\n",
    "    prom=promedio(dicc)\n",
    "    if prom!=None:\n",
    "        print(f'El promedio es {prom}')\n",
    "    else:\n",
    "        print(f'No se puede calcular el promedio')\n",
    "principal () # con esta linea probamos el programa"
   ]
  },
  {
   "cell_type": "code",
   "execution_count": null,
   "id": "98ceab48",
   "metadata": {},
   "outputs": [],
   "source": []
  }
 ],
 "metadata": {
  "kernelspec": {
   "display_name": "Python 3",
   "language": "python",
   "name": "python3"
  },
  "language_info": {
   "codemirror_mode": {
    "name": "ipython",
    "version": 3
   },
   "file_extension": ".py",
   "mimetype": "text/x-python",
   "name": "python",
   "nbconvert_exporter": "python",
   "pygments_lexer": "ipython3",
   "version": "3.12.7"
  }
 },
 "nbformat": 4,
 "nbformat_minor": 5
}
