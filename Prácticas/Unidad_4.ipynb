{
  "cells": [
    {
      "cell_type": "markdown",
      "metadata": {
        "id": "PG0_CG8t15Tk"
      },
      "source": [
        "# Unidad 6 | Funciones\n",
        "Introducción a las funciones Funciones integradas (built-in). Métodos. Declaración e invocación de funciones propias. Retorno y envío de valores."
      ]
    },
    {
      "cell_type": "markdown",
      "metadata": {
        "id": "vcpEjO6J5FGD"
      },
      "source": [
        "###Esqueleto de una función"
      ]
    },
    {
      "cell_type": "code",
      "execution_count": null,
      "metadata": {
        "colab": {
          "base_uri": "https://localhost:8080/",
          "height": 106
        },
        "id": "ST9bsMae5Lrm",
        "outputId": "1237e5c1-6926-4f63-d18f-50a676072379"
      },
      "outputs": [
        {
          "ename": "SyntaxError",
          "evalue": "expected ':' (<ipython-input-2-4b96300260f0>, line 1)",
          "output_type": "error",
          "traceback": [
            "\u001b[0;36m  File \u001b[0;32m\"<ipython-input-2-4b96300260f0>\"\u001b[0;36m, line \u001b[0;32m1\u001b[0m\n\u001b[0;31m    def nombreDeMiFuncion(parametro_1: type, parametro_n: type) -> type, type:\u001b[0m\n\u001b[0m                                                                       ^\u001b[0m\n\u001b[0;31mSyntaxError\u001b[0m\u001b[0;31m:\u001b[0m expected ':'\n"
          ]
        }
      ],
      "source": [
        "def nombreDeMiFuncion(parametro_1: type, parametro_n: type) -> type, type:\n",
        "  \"\"\"\n",
        "  Documentación de la función.\n",
        "  \"\"\"\n",
        "  # Bloque de código que realiza mi función\n",
        "  return variable_1, variable_m\n"
      ]
    },
    {
      "cell_type": "markdown",
      "metadata": {
        "id": "RUEgOeNZ7IX7"
      },
      "source": [
        "Una función tiene la capacidad de recibir un número indefinido de argumentos (n), separados por coma, independientemente de su tipo de dato. \\\n",
        "Asimismo, es capaz de retornar la cantidad de variables que se le solicite (m), sin restricciones en cuanto a su tipo de dato.\n",
        "Para retornar varios elementos los separaremos por coma."
      ]
    },
    {
      "cell_type": "markdown",
      "metadata": {
        "id": "xmOIGPi570c3"
      },
      "source": [
        "###Invocación a la función"
      ]
    },
    {
      "cell_type": "code",
      "execution_count": null,
      "metadata": {
        "id": "ddXHa-HL8X-I"
      },
      "outputs": [],
      "source": [
        "retorno_1, retorno_m = nombreDeMiFuncion(argumento_1, argumento_n)"
      ]
    },
    {
      "cell_type": "markdown",
      "metadata": {
        "id": "NLzTUymZ_v9_"
      },
      "source": [
        "### Práctica métodos y funciones built in\n"
      ]
    },
    {
      "cell_type": "markdown",
      "metadata": {
        "id": "6upib1wwwQTm"
      },
      "source": [
        "**Ejercicio 1** Escribir un programa que le pregunte a las personas su fecha de nacimiento y en base a eso imprimir su signo zodıacal.\n",
        "\n",
        "El formato de ingreso de la fecha debe ser DD/MM/YY.\n",
        "\n",
        "Ayuda: investigar *split*"
      ]
    },
    {
      "cell_type": "code",
      "execution_count": 6,
      "metadata": {
        "id": "KYafzEV3S_eI"
      },
      "outputs": [
        {
          "name": "stdout",
          "output_type": "stream",
          "text": [
            "Alguien que nacio el 24 del 6, es del signo Cáncer\n"
          ]
        }
      ],
      "source": [
        "fecha=input('Ingrese su fecha de nacimiento en formato DD/MM/YY: ')\n",
        "dia,mes,ano=fecha.split('/')\n",
        "dia=int(dia)\n",
        "mes=int(mes)\n",
        "if mes==12 and dia>21 or mes==1 and dia<21:\n",
        "    signo='Capricornio'\n",
        "elif mes==1 and dia>21 or mes==2 and dia<21:\n",
        "    signo='Acuario'\n",
        "elif mes==2 and dia>21 or mes==3 and dia<21:\n",
        "    signo='Piscis '\n",
        "elif mes==3 and dia>21 or mes==4 and dia<21:\n",
        "    signo='Aries'\n",
        "elif mes==4 and dia>21 or mes==5 and dia<21:\n",
        "    signo='Tauro'\n",
        "elif mes==5 and dia>21 or mes==6 and dia<21:\n",
        "    signo='Géminis'\n",
        "elif mes==6 and dia>21 or mes==7 and dia<21:\n",
        "    signo='Cáncer'\n",
        "elif mes==7 and dia>21 or mes==8 and dia<21:\n",
        "    signo='Leo'\n",
        "elif mes==8 and dia>21 or mes==9 and dia<21:\n",
        "    signo='Virgo'\n",
        "elif mes==9 and dia>21 or mes==10 and dia<21:\n",
        "    signo='Libra'\n",
        "elif mes==10 and dia>21 or mes==11 and dia<21:\n",
        "    signo='Escorpio'\n",
        "elif mes==11 and dia>21 or mes==12 and dia<21:\n",
        "    signo='Sagitario'\n",
        "print(f'Alguien que nacio el {dia} del {mes}, es del signo {signo}')"
      ]
    },
    {
      "cell_type": "markdown",
      "metadata": {
        "id": "W1Us3dUA3TdL"
      },
      "source": [
        "**Ejercicio 2** Dada una cadena de caracteres ordenarla de forma ascendente y luego descendente.\n",
        "\n",
        "Ayuda: investigar *sorted*"
      ]
    },
    {
      "cell_type": "code",
      "execution_count": null,
      "metadata": {},
      "outputs": [
        {
          "name": "stdout",
          "output_type": "stream",
          "text": [
            "['h', 'g', 'f', 'e', 'd', 'c', 'b', 'a']\n"
          ]
        }
      ],
      "source": [
        "cadena= (\"h\", \"b\", \"a\", \"c\", \"f\", \"d\", \"e\", \"g\")\n",
        "a=sorted(cadena,reverse=True) #reverse true para descendente\n",
        "print(a)"
      ]
    },
    {
      "cell_type": "markdown",
      "metadata": {
        "id": "yo27zgr_t99L"
      },
      "source": [
        "**Ejercicio 3**\n",
        "Realizar una función que tome como parámetros 3 números, se fije cual es el número más grande (N) y el más chico (M) y devuelva la potencia de Nᴹ.\n",
        "Utilizar solo funciones built in.\n",
        "\n",
        "Ayuda: investigar *math.pow, max y min*"
      ]
    },
    {
      "cell_type": "code",
      "execution_count": 1,
      "metadata": {
        "id": "h-Z-Xuy-wcD6"
      },
      "outputs": [],
      "source": [
        "import math\n",
        "def ej3(a:float,b:float,c:float)->float: #no es necesario especificar el datatype\n",
        "    N=max(a,b,c)\n",
        "    M=min(a,b,c)\n",
        "    return math.pow(N,M)\n"
      ]
    },
    {
      "cell_type": "markdown",
      "metadata": {
        "id": "Vcg2sDm2AInE"
      },
      "source": [
        "**Ejercicio 4**\n",
        "Juego de adivinanza: Escribe un programa que elija un número aleatorio entre 1 y 10 y le pida al usuario que adivine el número. Si el usuario adivina correctamente, el programa imprimirá \"¡Ganaste!\", de lo contrario, el programa imprimirá \"Intenta de nuevo\" y le dará otra oportunidad al usuario para adivinar.\n",
        "\n",
        "Ayuda: investigar *random*"
      ]
    },
    {
      "cell_type": "code",
      "execution_count": 15,
      "metadata": {},
      "outputs": [
        {
          "name": "stdout",
          "output_type": "stream",
          "text": [
            "Perdiste, el numero era 2\n"
          ]
        }
      ],
      "source": [
        "import random\n",
        "azar=random.randint(1,10)\n",
        "num=int(input('Adivine un numero del 1 al 10'))\n",
        "i=1\n",
        "while True:\n",
        "    if num==azar:\n",
        "        print('Acertaste! sos un capo')\n",
        "        break\n",
        "    elif num!=azar and i<2:\n",
        "        num=int(input('Numero incorrecto. Tiene un ultimo intento'))\n",
        "        i+=1\n",
        "    elif num!=azar and i==2:\n",
        "        print(f'Perdiste, el numero era {azar}')\n",
        "        break\n"
      ]
    },
    {
      "cell_type": "markdown",
      "metadata": {
        "id": "ZXl5_ySxtAOs"
      },
      "source": [
        "### Práctica de funciones"
      ]
    },
    {
      "cell_type": "markdown",
      "metadata": {
        "id": "XqEFK47UtDFh"
      },
      "source": [
        "**Ejercicio 5**\n",
        "Realizar una función que calcule la suma de dos números. En el algoritmo principal le pediremos\n",
        "al usuario que ingrese por consola los dos números para pasárselos a la función. Después la función\n",
        "calculará la suma y lo devolverá para imprimirlo en el algoritmo."
      ]
    },
    {
      "cell_type": "code",
      "execution_count": 17,
      "metadata": {},
      "outputs": [],
      "source": [
        "def suma(a,b):\n",
        "    return a+b\n",
        "\n",
        "def resta(a,b):\n",
        "    return a-b"
      ]
    },
    {
      "cell_type": "markdown",
      "metadata": {
        "id": "tVZv3xJ-refN"
      },
      "source": [
        "**Ejercicio 6** Escribir una función que calcule la longitud de una cadena.\n",
        "\n",
        "Nota: no utilizar la función len."
      ]
    },
    {
      "cell_type": "code",
      "execution_count": 24,
      "metadata": {},
      "outputs": [
        {
          "name": "stdout",
          "output_type": "stream",
          "text": [
            "Longitud de la cadena es 11\n",
            "11\n"
          ]
        }
      ],
      "source": [
        "def long(cadena:str) ->int:\n",
        "    cont=0\n",
        "    for c in cadena:\n",
        "        cont+=1\n",
        "    print(f'Longitud de la cadena es {i}')\n",
        "    return cont\n",
        "print(long('Maximiliano'))"
      ]
    },
    {
      "cell_type": "markdown",
      "metadata": {
        "id": "MI9uFBvDtORh"
      },
      "source": [
        "**Ejercicio 7**\n",
        "Realizar una función que pida al usuario una frase y una letra a buscar en esa frase. La función debe\n",
        "devolver la cantidad de veces que encontró la letra."
      ]
    },
    {
      "cell_type": "code",
      "execution_count": 32,
      "metadata": {},
      "outputs": [
        {
          "name": "stdout",
          "output_type": "stream",
          "text": [
            "La letra i aparece 3 veces en Maximiliano\n",
            "3\n"
          ]
        }
      ],
      "source": [
        "def busca(cadena:str, letra:str)->int:\n",
        "    cont=0\n",
        "    for car in cadena:\n",
        "        if letra == car:\n",
        "            cont+=1\n",
        "        else:\n",
        "           continue\n",
        "    print(f'La letra {letra} aparece {cont} veces en {cadena}')\n",
        "    return cont\n",
        "print(busca('Maximiliano', 'i'))"
      ]
    },
    {
      "cell_type": "markdown",
      "metadata": {
        "id": "YsK8bFg-r4Nu"
      },
      "source": [
        "**Ejercicio 8** Un número es primo si solo si sus únicos divisores son 1 y el mismo número.\n",
        "\n"
      ]
    },
    {
      "cell_type": "markdown",
      "metadata": {
        "id": "gUrRtAPqsK_q"
      },
      "source": [
        "```python\n",
        "a. Escriba una función que determine si un numero es primo o no.\n",
        "```"
      ]
    },
    {
      "cell_type": "code",
      "execution_count": 37,
      "metadata": {},
      "outputs": [
        {
          "name": "stdout",
          "output_type": "stream",
          "text": [
            "False\n"
          ]
        }
      ],
      "source": [
        "def primo(num:int) -> bool:\n",
        "    if num<=1:\n",
        "        return False\n",
        "    for i in range(2, int(num**0.5)+1): #verifica divisores desde el 2 hasta la raiz de n\n",
        "        if num%i==0: #si el resto es 0 encontro un divisor, no es primo\n",
        "            return False\n",
        "    return True #no encontro ninguno\n",
        "\n",
        "print(primo(6))\n"
      ]
    },
    {
      "cell_type": "markdown",
      "metadata": {
        "id": "Ovf7d0G2sMlS"
      },
      "source": [
        "```python\n",
        "b. Escriba otra función que reciba un número n e imprima todos los números primos menores que n.\n",
        "```"
      ]
    },
    {
      "cell_type": "code",
      "execution_count": 40,
      "metadata": {},
      "outputs": [
        {
          "name": "stdout",
          "output_type": "stream",
          "text": [
            "Los primos menores que 7 son [2, 3, 5]\n"
          ]
        },
        {
          "data": {
            "text/plain": [
              "[2, 3, 5]"
            ]
          },
          "execution_count": 40,
          "metadata": {},
          "output_type": "execute_result"
        }
      ],
      "source": [
        "def primo(num:int) -> bool:\n",
        "    if num<=1:\n",
        "        return False\n",
        "    for i in range(2, int(num**0.5)+1): #verifica divisores desde el 2 hasta la raiz de n\n",
        "        if num%i==0: #si el resto es 0 encontro un divisor, no es primo\n",
        "            return False\n",
        "    return True #no encontro ninguno\n",
        "\n",
        "def primos(n:int)-> list[int]:\n",
        "    primos=[]\n",
        "    for n in range(2,n):\n",
        "        if primo(n):\n",
        "            primos.append(n)\n",
        "    print(f'Los primos menores que {n+1} son {primos}')\n",
        "    return primos\n",
        "\n",
        "primos(7)"
      ]
    },
    {
      "cell_type": "markdown",
      "metadata": {
        "id": "2KFpPbJ8sOA_"
      },
      "source": [
        "**Ejercicio 9**\n",
        "Realizar un menú similar a una calculadora. Funciones:\n",
        "1. Suma(num1, num2)\n",
        "2. Resta(num1, num2)\n",
        "3. Division(num1, num2)\n",
        "4. Multiplicacion(num1, num2)\n",
        "5. Factorial(num)\n",
        "0. Salir"
      ]
    },
    {
      "cell_type": "code",
      "execution_count": null,
      "metadata": {
        "id": "p98F4T4Psa_5"
      },
      "outputs": [],
      "source": []
    }
  ],
  "metadata": {
    "colab": {
      "provenance": []
    },
    "kernelspec": {
      "display_name": "Python 3",
      "name": "python3"
    },
    "language_info": {
      "codemirror_mode": {
        "name": "ipython",
        "version": 3
      },
      "file_extension": ".py",
      "mimetype": "text/x-python",
      "name": "python",
      "nbconvert_exporter": "python",
      "pygments_lexer": "ipython3",
      "version": "3.12.7"
    }
  },
  "nbformat": 4,
  "nbformat_minor": 0
}
