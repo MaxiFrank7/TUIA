{
  "cells": [
    {
      "cell_type": "markdown",
      "id": "975346ff",
      "metadata": {
        "id": "975346ff"
      },
      "source": [
        "# Unidad 5 | Listas, tuplas y diccionarios\n",
        "Concepto de \"estructuras de datos\". Creación y uso de listas. Creación y uso de tuplas. Índices y slicing. Creación y uso de diccionarios. Operadores y métodos."
      ]
    },
    {
      "cell_type": "markdown",
      "id": "62ce5593",
      "metadata": {
        "id": "62ce5593"
      },
      "source": [
        "## Listas\n",
        "\n",
        "*   Son mutables, ya que sus elementos pueden ser modificados.\n",
        "*   Son dinámicas, ya que se pueden añadir o eliminar elementos.\n",
        "*   Son ordenadas, mantienen el orden en el que han sido definidas.\n",
        "*   Pueden ser formadas por tipos arbitrarios.\n",
        "*   Pueden ser indexadas con [ i ].\n",
        "*   Pueden ser anidadas, es decir, incluir una dentro de la otra."
      ]
    },
    {
      "cell_type": "markdown",
      "id": "6iFPFSaCfFPz",
      "metadata": {
        "id": "6iFPFSaCfFPz"
      },
      "source": [
        "Sintaxis:\n",
        "\n",
        "`nombre_lista = [int, str, list, float,...]`"
      ]
    },
    {
      "cell_type": "markdown",
      "id": "eXWn6UPGhCe-",
      "metadata": {
        "id": "eXWn6UPGhCe-"
      },
      "source": [
        "### Práctica de Listas"
      ]
    },
    {
      "cell_type": "markdown",
      "id": "6df460bc",
      "metadata": {
        "id": "6df460bc"
      },
      "source": [
        "**Ejercicio 1.** Escriba una función que reciba una lista de números calcule la suma acumulada de sus elementos y la devuelva. Es decir, una nueva lista donde el primer elemento es el mismo que en la lista original, el segundo elemento es la suma del primer y segundo elemento de la lista original, el tercer elemento es la suma del resultado anterior con el tercer elemento de la lista original y así sucesivamente. Por ejemplo, dada la lista [1, 2, 3], la suma acumulada debería ser [1, 3, 6]."
      ]
    },
    {
      "cell_type": "code",
      "execution_count": 5,
      "id": "wgiefvVzh8Sp",
      "metadata": {
        "id": "wgiefvVzh8Sp"
      },
      "outputs": [
        {
          "name": "stdout",
          "output_type": "stream",
          "text": [
            "[1, 3, 6]\n"
          ]
        }
      ],
      "source": [
        "def acumularSuma(sumar:list)->int:\n",
        "    suma=0\n",
        "    lista=[]\n",
        "    for num in sumar:\n",
        "        suma+=num\n",
        "        lista.append(suma)\n",
        "    return lista\n",
        "\n",
        "print(acumularSuma([1, 2, 3]))"
      ]
    },
    {
      "cell_type": "code",
      "execution_count": null,
      "id": "Pg57CqjKiQw3",
      "metadata": {
        "colab": {
          "base_uri": "https://localhost:8080/"
        },
        "id": "Pg57CqjKiQw3",
        "outputId": "52273575-e251-4ed6-8c67-a1d0ebcff798"
      },
      "outputs": [
        {
          "name": "stdout",
          "output_type": "stream",
          "text": [
            "[1, 3, 6]\n"
          ]
        }
      ],
      "source": [
        "# ejemplo de uso\n",
        "print(acumularSuma([1, 2, 3]))"
      ]
    },
    {
      "cell_type": "markdown",
      "id": "a1864932",
      "metadata": {
        "id": "a1864932"
      },
      "source": [
        "**Ejercicio 2.** Genere una lista llamada datosPersonales, mediante el uso de un bucle donde en cada iteración se pida un solo dato de los siguientes: Nombre, Apellido, Localidad, Edad, DNI, Carrera en curso, año de inicio de la carrera. Luego, imprima por pantalla la lista con los datos completados. (Ingrese las palabras como cadenas y los números como enteros)"
      ]
    },
    {
      "cell_type": "code",
      "execution_count": null,
      "id": "F5Liysx5AQJ4",
      "metadata": {
        "id": "F5Liysx5AQJ4"
      },
      "outputs": [],
      "source": [
        "# ayuda\n",
        "lista_de_datos_que_necesito = ['Nombre', 'Apellido', 'Localidad','Edad','DNI', 'Carrera', 'Año de inicio']"
      ]
    },
    {
      "cell_type": "markdown",
      "id": "571681d6",
      "metadata": {
        "id": "571681d6"
      },
      "source": [
        "**Ejercicio 3.** Genere una lista base de datos que contenga en su interior las listas de datos personales. Luego, implemente un programa que imprima los datos personales de cada persona."
      ]
    },
    {
      "cell_type": "markdown",
      "id": "663RqzExxawV",
      "metadata": {
        "id": "663RqzExxawV"
      },
      "source": [
        "**Ejercicio 4.** Crear una función que reciba una frase y devuelva una lista la cantidad de vocales que hay."
      ]
    },
    {
      "cell_type": "code",
      "execution_count": null,
      "id": "WMQ_yXrnQQ_C",
      "metadata": {
        "id": "WMQ_yXrnQQ_C"
      },
      "outputs": [
        {
          "name": "stdout",
          "output_type": "stream",
          "text": [
            "a, 2\n",
            "e, 1\n",
            "i, 0\n",
            "o, 3\n",
            "u, 1\n",
            "[('a', 2), ('e', 1), ('i', 0), ('o', 3), ('u', 1)]\n"
          ]
        }
      ],
      "source": [
        "def cuenta(frase:str)->list:\n",
        "    frase=frase.lower()\n",
        "    vocales=['a','e','i','o','u']\n",
        "    cont=[0,0,0,0,0]\n",
        "    lista=[]\n",
        "\n",
        "    for letra in frase: #Itera sobre cada letra de la frase.\n",
        "        for i in range(len(vocales)): #Compara la letra actual con cada vocal en la lista vocales\n",
        "            if letra == vocales[i]: #Si la letra coincide con una vocal, incrementa su contador correspondiente.\n",
        "                cont[i]+=1\n",
        "\n",
        "    for i in range(len(vocales)):\n",
        "        lista.append((vocales[i],cont[i])) #Crea una lista de tuplas (vocal, cantidad).\n",
        "        print(f'{vocales[i]}, {cont[i]}')\n",
        "    \n",
        "    return lista\n",
        "resultado = cuenta(\"hola, como estas tu\")\n",
        "print(resultado)"
      ]
    },
    {
      "cell_type": "markdown",
      "id": "g-u6Boxjj5d3",
      "metadata": {
        "id": "g-u6Boxjj5d3"
      },
      "source": [
        "Escribe una función llamada \"elimina_duplicados\" que tome una lista y devuelva una nueva lista con los elementos únicos de la lista original."
      ]
    },
    {
      "cell_type": "code",
      "execution_count": null,
      "id": "OLkfBrA-j6Jx",
      "metadata": {
        "id": "OLkfBrA-j6Jx"
      },
      "outputs": [],
      "source": []
    },
    {
      "cell_type": "code",
      "execution_count": null,
      "id": "5HI2vFrekBHD",
      "metadata": {
        "id": "5HI2vFrekBHD"
      },
      "outputs": [],
      "source": [
        "lista = [1, 2, 4, 4, 6, 'a']\n",
        "nueva_lista = elimina_duplicados(lista)\n"
      ]
    },
    {
      "cell_type": "markdown",
      "id": "uCp7ZG7qmMSe",
      "metadata": {
        "id": "uCp7ZG7qmMSe"
      },
      "source": [
        "Escribe una función llamada \"palindromo\" que busque todas las palabras palindromo de una lista.\n",
        "Ejemplo de palabras palindromo: radar, oro, rajar, rallar, salas, somos, etc..."
      ]
    },
    {
      "cell_type": "code",
      "execution_count": null,
      "id": "w5z-tw_NmQ8u",
      "metadata": {
        "id": "w5z-tw_NmQ8u"
      },
      "outputs": [],
      "source": []
    },
    {
      "cell_type": "code",
      "execution_count": null,
      "id": "AiFEcjOPmkWB",
      "metadata": {
        "id": "AiFEcjOPmkWB"
      },
      "outputs": [],
      "source": [
        "lista = ['rojo', 'cara', 'oro', 'somos', 'gato']\n",
        "\n",
        "print(palindromo(lista))"
      ]
    },
    {
      "cell_type": "code",
      "execution_count": null,
      "id": "Qp6v76iYnYhu",
      "metadata": {
        "id": "Qp6v76iYnYhu"
      },
      "outputs": [],
      "source": [
        "def funcion(lo_que_le_paso):\n",
        "  lo_que_devuelvo = None\n",
        "  # cuerpo de la funcion\n",
        "  return lo_que_devuelvo"
      ]
    },
    {
      "cell_type": "markdown",
      "id": "PqbB-_XknvPo",
      "metadata": {
        "id": "PqbB-_XknvPo"
      },
      "source": [
        "Cuerpo de la funcion:\n",
        "\n",
        "Detectar sobre que variable hay que trabajar\n",
        "\n",
        "caso 1-> si pasa esto: hago esto\n",
        "\n",
        "caso 2-> si pasa esto otro: hago esto otro"
      ]
    },
    {
      "cell_type": "code",
      "execution_count": null,
      "id": "Wbq1DSlLm7dr",
      "metadata": {
        "colab": {
          "base_uri": "https://localhost:8080/"
        },
        "id": "Wbq1DSlLm7dr",
        "outputId": "0e4977f1-acc3-4501-ce7d-9b363f0d9cd6"
      },
      "outputs": [
        {
          "name": "stdout",
          "output_type": "stream",
          "text": [
            "ojor\n"
          ]
        }
      ],
      "source": [
        "palabra = 'rojo'\n",
        "print(palabra[::-1])"
      ]
    },
    {
      "cell_type": "markdown",
      "id": "E2pCQrarfmes",
      "metadata": {
        "id": "E2pCQrarfmes"
      },
      "source": [
        "## Tuplas\n",
        "\n",
        "*   Son mutables, ya que sus elementos pueden ser modificados.\n",
        "*   No son dinámicas, ya que no se pueden añadir o eliminar elementos.\n",
        "*   Son ordenadas, mantienen el orden en el que han sido definidas.\n",
        "*   Pueden ser formadas por tipos arbitrarios.\n",
        "*   Pueden ser indexadas con [ i ].\n",
        "*   Pueden ser anidadas, es decir, incluir una dentro de la otra."
      ]
    },
    {
      "cell_type": "markdown",
      "id": "L7i2szaafmeu",
      "metadata": {
        "id": "L7i2szaafmeu"
      },
      "source": [
        "Sintaxis:\n",
        "\n",
        "`nombre_tupla = (int, str, tuple, float,...)`"
      ]
    },
    {
      "cell_type": "markdown",
      "id": "6gLA3knRg9Dm",
      "metadata": {
        "id": "6gLA3knRg9Dm"
      },
      "source": [
        "### Práctica de Tuplas"
      ]
    },
    {
      "cell_type": "markdown",
      "id": "FrojExmFgbXL",
      "metadata": {
        "id": "FrojExmFgbXL"
      },
      "source": [
        "**Ejercicio 1.** Crea una tupla que contenga los días de la semana (Lunes, Martes, Miércoles, etc.). Imprime la tupla y luego imprime la longitud de la tupla."
      ]
    },
    {
      "cell_type": "markdown",
      "id": "Ju_xONBRgph0",
      "metadata": {
        "id": "Ju_xONBRgph0"
      },
      "source": [
        "**Ejercicio 2.** Crea una tupla que contenga los precios de 5 productos diferentes. Usa un bucle para encontrar los precios más altos y más bajos en la tupla."
      ]
    },
    {
      "cell_type": "markdown",
      "id": "sjWayYkQgqKm",
      "metadata": {
        "id": "sjWayYkQgqKm"
      },
      "source": [
        "**Ejercicio 3.** Crea dos tuplas, una que contenga los nombres de algunas frutas (por ejemplo, manzana, plátano, cereza) y la otra que contenga los precios correspondientes. Usa un bucle para imprimir cada fruta y su precio."
      ]
    },
    {
      "cell_type": "code",
      "execution_count": null,
      "id": "yqOxxyfuPDdF",
      "metadata": {
        "id": "yqOxxyfuPDdF"
      },
      "outputs": [],
      "source": []
    },
    {
      "cell_type": "markdown",
      "id": "xIljq8lPgszH",
      "metadata": {
        "id": "xIljq8lPgszH"
      },
      "source": [
        "**Ejercicio 4.** Crea una tupla de tuplas, donde cada tupla interna contenga el nombre y la edad de una persona. Ordena la tupla en función de la edad de cada persona e imprime la tupla ordenada."
      ]
    },
    {
      "cell_type": "markdown",
      "id": "S_kq6DgegtIb",
      "metadata": {
        "id": "S_kq6DgegtIb"
      },
      "source": [
        "**Ejercicio 5.** Crea una tupla que contenga los primeros 10 números pares (2, 4, 6, etc.). Usa un bucle para calcular la suma de todos los números en la tupla."
      ]
    },
    {
      "cell_type": "markdown",
      "id": "Soe6CMVcBD_Z",
      "metadata": {
        "id": "Soe6CMVcBD_Z"
      },
      "source": [
        "## Diccionarios\n",
        "* Son mutables, permitiendo la modificación de sus elementos.\n",
        "* Son estructuras de datos dinámicas que pueden crecer o reducirse al añadir o eliminar pares clave-valor.\n",
        "* No mantienen un orden específico de sus elementos, a diferencia de las tuplas.\n",
        "* Consisten en pares clave-valor, donde cada valor está asociado a una clave única.\n",
        "* Se accede a los valores a través de sus claves en lugar de índices numéricos.\n",
        "* Los diccionarios pueden anidarse, permitiendo la inclusión de diccionarios dentro de otros diccionarios para estructuras de datos más complejas."
      ]
    },
    {
      "cell_type": "markdown",
      "id": "tpTPJZ3YCbHk",
      "metadata": {
        "id": "tpTPJZ3YCbHk"
      },
      "source": [
        "Sintaxis:\n",
        "\n",
        "`nombre_diccionario = {int: str,\n",
        "                       str: float,\n",
        "                       tuple: list,...}`"
      ]
    },
    {
      "cell_type": "markdown",
      "id": "MLhcBjlqB6l6",
      "metadata": {
        "id": "MLhcBjlqB6l6"
      },
      "source": [
        "### Práctica de Diccionarios"
      ]
    },
    {
      "cell_type": "markdown",
      "id": "mDRbYGtGBGQF",
      "metadata": {
        "id": "mDRbYGtGBGQF"
      },
      "source": [
        "**Ejercicio 1.** Escribe un programa que lea una cadena y devuelva un diccionario con la cantidad de apariciones de\n",
        "cada palabra en la cadena.\n",
        "Por ejemplo:\n",
        "\n",
        "`\"la peluca de la abuela \"`\n",
        "\n",
        "Debería mostrar\n",
        "\n",
        "`{\"la\": 2 , \" peluca \": 1 , \"de\": 1 , \" abuela \": 1}`"
      ]
    },
    {
      "cell_type": "code",
      "execution_count": 13,
      "id": "f809405d",
      "metadata": {},
      "outputs": [
        {
          "name": "stdout",
          "output_type": "stream",
          "text": [
            "{'la': 2, 'peluca': 1, 'de': 1, 'abuela': 1}\n"
          ]
        }
      ],
      "source": [
        "def contar_palabra(frase:str)->dict:\n",
        "    conteo=dict()\n",
        "    frase2=frase.split()\n",
        "    for palabra in frase2:\n",
        "        if palabra in conteo:\n",
        "            conteo[palabra]+=1\n",
        "        else:\n",
        "            conteo[palabra]=1\n",
        "    return conteo\n",
        "        \n",
        "resultado=contar_palabra('la peluca de la abuela')\n",
        "print(f'{resultado}')\n"
      ]
    },
    {
      "cell_type": "markdown",
      "id": "cbNjBJC9zFS3",
      "metadata": {
        "id": "cbNjBJC9zFS3"
      },
      "source": [
        "**Ejercicio 2.** Crear un diccionario de la lista de precios de una verdulería."
      ]
    },
    {
      "cell_type": "code",
      "execution_count": null,
      "id": "BirulGe9oT4-",
      "metadata": {
        "colab": {
          "base_uri": "https://localhost:8080/"
        },
        "id": "BirulGe9oT4-",
        "outputId": "8b92d4b0-39d2-4dfb-e566-a2eee09195be"
      },
      "outputs": [
        {
          "data": {
            "text/plain": [
              "{}"
            ]
          },
          "execution_count": 14,
          "metadata": {},
          "output_type": "execute_result"
        }
      ],
      "source": [
        "# verduleria = {'banana': 500,\n",
        "#               'manzana': 500}\n",
        "\n",
        "# 1. preguntar al usuario si quiere agregar otro producto o salir\n",
        "# 2. preguntar el nombre del producto (se puede hacer en el paso 1)\n",
        "# 3. preguntar el precio\n",
        "# 4. agregar al dicc\n",
        "def verduleria()->dict:\n",
        "    stock=dict()\n",
        "    fruta=input(f'Ingrese fruta: Enter p/salir').capitalize()\n",
        "    while fruta !='':\n",
        "        precio=float(input(f'Ingrese precio de la {fruta}'))\n",
        "        stock[fruta]=precio\n",
        "        fruta=input(f'Ingrese fruta: Enter p/salir').capitalize()\n",
        "    return(stock)\n",
        "\n",
        "verduleria()\n",
        "\n",
        "\n"
      ]
    },
    {
      "cell_type": "markdown",
      "id": "GQq19546zToD",
      "metadata": {
        "id": "GQq19546zToD"
      },
      "source": [
        "**Ejercicio 3.** A partir del diccionario anterior, imprimir en la pantalla el nombre de la fruta/verdura con su correspondiente precio."
      ]
    },
    {
      "cell_type": "code",
      "execution_count": 20,
      "id": "76705f6d",
      "metadata": {},
      "outputs": [
        {
          "name": "stdout",
          "output_type": "stream",
          "text": [
            "\n",
            "Stock disponible verduleria:\n",
            "Banana:$500.0\n",
            "Manzana:$500.0\n",
            "Frutilla:$1200.0\n",
            "Pera:$800.0\n"
          ]
        }
      ],
      "source": [
        "def verduleria()->dict:\n",
        "    stock=dict()\n",
        "    fruta=input(f'Ingrese fruta: Enter p/salir').capitalize()\n",
        "    while fruta !='':\n",
        "        precio=float(input(f'Ingrese precio de la {fruta}'))\n",
        "        stock[fruta]=precio\n",
        "        fruta=input(f'Ingrese fruta: Enter p/salir').capitalize()\n",
        "    return(stock)\n",
        "\n",
        "def imprimir(stock:dict)->None:\n",
        "    for fruta,precio in stock.items():\n",
        "        print(f'{fruta}:${precio}')\n",
        "\n",
        "inventario=verduleria()\n",
        "print(f'\\nStock disponible verduleria:')\n",
        "imprimir(inventario)\n"
      ]
    },
    {
      "cell_type": "markdown",
      "id": "mY7bF_Auzs7u",
      "metadata": {
        "id": "mY7bF_Auzs7u"
      },
      "source": [
        "**Ejercicio 4.** Utilizando el diccionario anterior, pedirle al usuario que ingrese una fruta/verdura y que indique su precio. Si no hay en stock avisarle al cliente y preguntarle si desea agregarla o no."
      ]
    },
    {
      "cell_type": "code",
      "execution_count": null,
      "id": "35d31511",
      "metadata": {},
      "outputs": [
        {
          "name": "stdout",
          "output_type": "stream",
          "text": [
            "banana:$500.0\n",
            "manzana:$1200.0\n",
            "durazno:$700.0\n",
            "frutilla:$800.0\n",
            "no se encuentra la fruta, por favor ingresela\n",
            "Se agrego Pera con el precio de $700\n"
          ]
        }
      ],
      "source": [
        "def consultar_precio(inventario:dict)->None:\n",
        "    buscar=input(f'Ingrese fruta a buscar:').capitalize()\n",
        "    if buscar in inventario:\n",
        "        print(f'El precio de {buscar} es ${inventario[buscar]}')\n",
        "    else:\n",
        "        print(f'No se encuentra la fruta, por favor ingresela')\n",
        "        precio=int(input(f'Ingrese precio de la fruta:'))\n",
        "        inventario[buscar]=precio\n",
        "        print(f'Se agrego {buscar} con el precio de ${inventario[buscar]}')\n",
        "\n",
        "inventario=verduleria()\n",
        "imprimir(inventario)\n",
        "consultar_precio(inventario)"
      ]
    },
    {
      "cell_type": "markdown",
      "id": "eea999dc",
      "metadata": {
        "id": "eea999dc"
      },
      "source": [
        "**Ejercicio 5.** Escribir una primer función que pida el nombre y 3 notas de unx alumnx, devuelva el nombre y una lista con las notas.\n",
        "Llamar dicha función tantas veces como alumnos haya y crear un diccionario donde la clave sea el nombre del estudiante y el valor la lista de sus notas.\n",
        "Por último, calcular el promedio de cada unx y mostrarlo en pantalla.\n",
        "\n",
        "Por ejemplo para\n",
        "    \n",
        "    alumnos = { \" Juan \" : [6 ,9 ,8] , \" Manuel \" : [9 ,10 ,9] , \" Martin \" : [5 ,6 ,7]}\n",
        "\n",
        "\n",
        "Debería mostrar:\n",
        "<dd>El promedio de Juan es 7.666666</dd>\n",
        "<dd>El promedio de Manuel es 9.333333</dd>\n",
        "<dd>El promedio de Martin es 6</dd>"
      ]
    },
    {
      "cell_type": "code",
      "execution_count": 23,
      "id": "069cd10c",
      "metadata": {},
      "outputs": [
        {
          "name": "stdout",
          "output_type": "stream",
          "text": [
            "El promedio de Juan es 7.666667\n",
            "El promedio de Manuel es 9.333333\n",
            "El promedio de Martin es 6.000000\n"
          ]
        }
      ],
      "source": [
        "def IngresoNombre()->dict:\n",
        "    alumnos=dict()\n",
        "    nombre=input(f'Ingrese nombre de alumno: Enter p/terminar')\n",
        "    while nombre!='':\n",
        "        notas=[]\n",
        "        for i in range(1,4):\n",
        "            nota=int(input(f'Ingrese nota del alumno:'))\n",
        "            notas.append(nota)\n",
        "        alumnos[nombre]=notas\n",
        "        nombre=input(f'Ingrese nombre de alumno: Enter p/terminar')\n",
        "    return alumnos\n",
        "\n",
        "def promNota(alumnos:dict)->None:\n",
        "    for nombre,notas in alumnos.items():\n",
        "        prom=sum(notas)/len(notas)\n",
        "        print(f'El promedio de {nombre} es {prom:.6f}')\n",
        "\n",
        "\n",
        "alumnos=IngresoNombre()\n",
        "promNota(alumnos)"
      ]
    },
    {
      "cell_type": "markdown",
      "id": "b133b714",
      "metadata": {
        "id": "b133b714"
      },
      "source": [
        "**Ejercicio 6.** Cartas como diccionario.\n",
        "<dl>\n",
        "<dd>a. Proponer una representación con diccionarios para un mazo completo de cartas.</dd>\n",
        "<dd>b. Escribir una función de poker que baraje cinco cartas de la baraja francesa e informe (devuelva\n",
        "el valor lógico correspondiente) si esas cartas forman o no un poker (es decir que hay 4 cartas con\n",
        "el mismo número).</dd>\n",
        "</dl>"
      ]
    }
  ],
  "metadata": {
    "colab": {
      "provenance": []
    },
    "kernelspec": {
      "display_name": "Python 3",
      "language": "python",
      "name": "python3"
    },
    "language_info": {
      "codemirror_mode": {
        "name": "ipython",
        "version": 3
      },
      "file_extension": ".py",
      "mimetype": "text/x-python",
      "name": "python",
      "nbconvert_exporter": "python",
      "pygments_lexer": "ipython3",
      "version": "3.12.7"
    }
  },
  "nbformat": 4,
  "nbformat_minor": 5
}
