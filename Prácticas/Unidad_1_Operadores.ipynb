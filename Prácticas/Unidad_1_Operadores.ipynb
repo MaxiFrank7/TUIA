{
  "cells": [
    {
      "cell_type": "markdown",
      "metadata": {
        "id": "qORqynvFV8eA"
      },
      "source": [
        "# **Práctica 1**\n",
        "\n",
        "**Unidad 1. Preliminares**\\\n",
        "Sintaxis y semántica de un lenguaje de programación.\n",
        "\n",
        "**Unidad 2. Representación de Datos. Operadores y expresiones.**\\\n",
        "Tipos de datos, rango de valores y límites. Declaraciones de variables, nomenclatura. Números, enteros, flotantes y complejos. Expresiones algorítmicas. Operadores de asignación, aritméticos, relacionales, lógicos. Precedencia."
      ]
    },
    {
      "cell_type": "markdown",
      "metadata": {
        "id": "v2_xlhL17_tx"
      },
      "source": [
        "##Ejercicio 1\n",
        "Pruebe las siguientes expresiones en Python. Observe qué resultados obtiene."
      ]
    },
    {
      "cell_type": "markdown",
      "metadata": {
        "id": "fM4QFFkV8HqW"
      },
      "source": [
        "``` python\n",
        "a. 0\n",
        "```\n",
        "\n",
        "\n"
      ]
    },
    {
      "cell_type": "code",
      "execution_count": 1,
      "metadata": {
        "id": "snD0jBUa8_9S"
      },
      "outputs": [
        {
          "data": {
            "text/plain": [
              "0"
            ]
          },
          "execution_count": 1,
          "metadata": {},
          "output_type": "execute_result"
        }
      ],
      "source": [
        "0"
      ]
    },
    {
      "cell_type": "markdown",
      "metadata": {
        "id": "rI6DJp46_DNw"
      },
      "source": [
        "``` python\n",
        "b. 1.5 * 0\n",
        "```"
      ]
    },
    {
      "cell_type": "code",
      "execution_count": 2,
      "metadata": {
        "id": "7kWlu2Ef_MzD"
      },
      "outputs": [
        {
          "data": {
            "text/plain": [
              "0.0"
            ]
          },
          "execution_count": 2,
          "metadata": {},
          "output_type": "execute_result"
        }
      ],
      "source": [
        "1.5*0"
      ]
    },
    {
      "cell_type": "markdown",
      "metadata": {
        "id": "OcWtczsB_Ncp"
      },
      "source": [
        "``` python\n",
        "c.11 / 2\n",
        "```"
      ]
    },
    {
      "cell_type": "code",
      "execution_count": 3,
      "metadata": {
        "id": "XsDdtJl3AOnj"
      },
      "outputs": [
        {
          "data": {
            "text/plain": [
              "5.5"
            ]
          },
          "execution_count": 3,
          "metadata": {},
          "output_type": "execute_result"
        }
      ],
      "source": [
        "11/2"
      ]
    },
    {
      "cell_type": "markdown",
      "metadata": {
        "id": "NZ0jyfvaAeQR"
      },
      "source": [
        "``` python\n",
        "d. 11 // 2\n",
        "```"
      ]
    },
    {
      "cell_type": "code",
      "execution_count": 4,
      "metadata": {
        "id": "wrO0ZzHnAlFA"
      },
      "outputs": [
        {
          "data": {
            "text/plain": [
              "5"
            ]
          },
          "execution_count": 4,
          "metadata": {},
          "output_type": "execute_result"
        }
      ],
      "source": [
        "11 // 2"
      ]
    },
    {
      "cell_type": "markdown",
      "metadata": {
        "id": "3qi0jsGTAlib"
      },
      "source": [
        "``` python\n",
        "e. 11.0 // 2.0\n",
        "```"
      ]
    },
    {
      "cell_type": "code",
      "execution_count": 9,
      "metadata": {
        "id": "Ieuq40OMAoHk"
      },
      "outputs": [
        {
          "data": {
            "text/plain": [
              "5.0"
            ]
          },
          "execution_count": 9,
          "metadata": {},
          "output_type": "execute_result"
        }
      ],
      "source": [
        "11.0 // 2.0"
      ]
    },
    {
      "cell_type": "markdown",
      "metadata": {
        "id": "sJICxilvAoVC"
      },
      "source": [
        "``` python\n",
        "f. 2 ** 2\n",
        "```"
      ]
    },
    {
      "cell_type": "code",
      "execution_count": 10,
      "metadata": {
        "id": "nQFbxf9HAqk6"
      },
      "outputs": [
        {
          "data": {
            "text/plain": [
              "4"
            ]
          },
          "execution_count": 10,
          "metadata": {},
          "output_type": "execute_result"
        }
      ],
      "source": [
        "2 ** 2"
      ]
    },
    {
      "cell_type": "markdown",
      "metadata": {
        "id": "UT5lDHcLAq1j"
      },
      "source": [
        "``` python\n",
        "g. \"a\" + \"b\"\n",
        "```"
      ]
    },
    {
      "cell_type": "code",
      "execution_count": 15,
      "metadata": {
        "id": "891gsXirAs4N"
      },
      "outputs": [
        {
          "data": {
            "text/plain": [
              "'ab'"
            ]
          },
          "execution_count": 15,
          "metadata": {},
          "output_type": "execute_result"
        }
      ],
      "source": [
        "\"a\" + \"b\""
      ]
    },
    {
      "cell_type": "markdown",
      "metadata": {
        "id": "y2wizlBnAtM6"
      },
      "source": [
        "``` python\n",
        "h. \"a\" * 0\n",
        "```"
      ]
    },
    {
      "cell_type": "code",
      "execution_count": 16,
      "metadata": {
        "id": "4Rn44dExFFU4"
      },
      "outputs": [
        {
          "data": {
            "text/plain": [
              "''"
            ]
          },
          "execution_count": 16,
          "metadata": {},
          "output_type": "execute_result"
        }
      ],
      "source": [
        "\"a\"*0"
      ]
    },
    {
      "cell_type": "markdown",
      "metadata": {
        "id": "WR2IS2YLCAiM"
      },
      "source": [
        "##Ejercicio 2\n",
        "Introduzca las siguientes expresiones. Trate de predecir su resultado y verifique."
      ]
    },
    {
      "cell_type": "markdown",
      "metadata": {
        "id": "lFfKqNp9CAiM"
      },
      "source": [
        "``` python\n",
        "a. 1 / 0\n",
        "```\n",
        "\n",
        "\n"
      ]
    },
    {
      "cell_type": "code",
      "execution_count": 17,
      "metadata": {
        "id": "-5psWkRxCAiN"
      },
      "outputs": [],
      "source": [
        "#1/0 va a dar error"
      ]
    },
    {
      "cell_type": "markdown",
      "metadata": {
        "id": "eSvUE5ZTCAiN"
      },
      "source": [
        "``` python\n",
        "b. 10 / 2 // 1 ** 5\n",
        "```"
      ]
    },
    {
      "cell_type": "code",
      "execution_count": 22,
      "metadata": {
        "id": "9gTnj0IDCAiN"
      },
      "outputs": [
        {
          "data": {
            "text/plain": [
              "5.0"
            ]
          },
          "execution_count": 22,
          "metadata": {},
          "output_type": "execute_result"
        }
      ],
      "source": [
        "10/2 // 1 ** 5 #1ero potencia, dsp division entera //, despues division /"
      ]
    },
    {
      "cell_type": "markdown",
      "metadata": {
        "id": "BG8trbQzCAiO"
      },
      "source": [
        "``` python\n",
        "c. \"hola\" + ’ ’ + \"mundo\" + ’!’\n",
        "```"
      ]
    },
    {
      "cell_type": "code",
      "execution_count": 23,
      "metadata": {
        "id": "O2_o9ZDbCAiO"
      },
      "outputs": [
        {
          "data": {
            "text/plain": [
              "'hola mundo!'"
            ]
          },
          "execution_count": 23,
          "metadata": {},
          "output_type": "execute_result"
        }
      ],
      "source": [
        "\"hola\"+\" \"+\"mundo\"+\"!\""
      ]
    },
    {
      "cell_type": "markdown",
      "metadata": {
        "id": "g57Ai-CjCAiO"
      },
      "source": [
        "``` python\n",
        "d.  \"hola\" + (’ ’ + \"mundo\") * 0\n",
        "```"
      ]
    },
    {
      "cell_type": "code",
      "execution_count": 24,
      "metadata": {
        "id": "At0JKDhGCAiO"
      },
      "outputs": [
        {
          "data": {
            "text/plain": [
              "'hola'"
            ]
          },
          "execution_count": 24,
          "metadata": {},
          "output_type": "execute_result"
        }
      ],
      "source": [
        "\"hola\"+(\" \"+\"mundo\")*0"
      ]
    },
    {
      "cell_type": "markdown",
      "metadata": {
        "id": "9yFxeSaGTq3Q"
      },
      "source": [
        "##Ejercicio 3\n",
        "En Python podemos usar el operador ```==``` para preguntarnos si dos cosas son iguales o no. Si ```a == b``` nos devuelve ```True```, entonces ```a``` y ```b``` se consideran iguales. En otro caso nos devolverá ```False```. Verificar\n",
        "qué pares de las siguientes expresiones son iguales:\n"
      ]
    },
    {
      "cell_type": "markdown",
      "metadata": {
        "id": "0ySAJe98Tq3Q"
      },
      "source": [
        "``` python\n",
        "a. 3\n",
        "```\n",
        "\n",
        "\n"
      ]
    },
    {
      "cell_type": "code",
      "execution_count": 25,
      "metadata": {
        "id": "EVHo3rAkTq3R"
      },
      "outputs": [
        {
          "data": {
            "text/plain": [
              "3"
            ]
          },
          "execution_count": 25,
          "metadata": {},
          "output_type": "execute_result"
        }
      ],
      "source": [
        "3"
      ]
    },
    {
      "cell_type": "markdown",
      "metadata": {
        "id": "6f71yoH0Tq3R"
      },
      "source": [
        "``` python\n",
        "b. 3.0\n",
        "```"
      ]
    },
    {
      "cell_type": "code",
      "execution_count": 26,
      "metadata": {
        "id": "lTA2yM1MTq3R"
      },
      "outputs": [
        {
          "data": {
            "text/plain": [
              "3.0"
            ]
          },
          "execution_count": 26,
          "metadata": {},
          "output_type": "execute_result"
        }
      ],
      "source": [
        "3.0"
      ]
    },
    {
      "cell_type": "markdown",
      "metadata": {
        "id": "7i3zuJRZTq3S"
      },
      "source": [
        "``` python\n",
        "c. (0.1 + 0.2) * 10\n",
        "```"
      ]
    },
    {
      "cell_type": "code",
      "execution_count": 27,
      "metadata": {
        "id": "H10raprmTq3S"
      },
      "outputs": [
        {
          "data": {
            "text/plain": [
              "3.0000000000000004"
            ]
          },
          "execution_count": 27,
          "metadata": {},
          "output_type": "execute_result"
        }
      ],
      "source": [
        "(0.1+0.2)*10"
      ]
    },
    {
      "cell_type": "markdown",
      "metadata": {
        "id": "PA8003-QTq3S"
      },
      "source": [
        "``` python\n",
        "d.  22 / 7\n",
        "```"
      ]
    },
    {
      "cell_type": "code",
      "execution_count": 28,
      "metadata": {
        "id": "DxF0jkSWTq3T"
      },
      "outputs": [
        {
          "data": {
            "text/plain": [
              "3.142857142857143"
            ]
          },
          "execution_count": 28,
          "metadata": {},
          "output_type": "execute_result"
        }
      ],
      "source": [
        "22/7"
      ]
    },
    {
      "cell_type": "markdown",
      "metadata": {
        "id": "A0NpB-wITq3T"
      },
      "source": [
        "``` python\n",
        "e.  22 // 7\n",
        "```"
      ]
    },
    {
      "cell_type": "code",
      "execution_count": null,
      "metadata": {
        "id": "lXSOh9JTTq3T"
      },
      "outputs": [
        {
          "data": {
            "text/plain": [
              "3"
            ]
          },
          "execution_count": 29,
          "metadata": {},
          "output_type": "execute_result"
        }
      ],
      "source": [
        "e=22//7"
      ]
    },
    {
      "cell_type": "code",
      "execution_count": 37,
      "metadata": {},
      "outputs": [
        {
          "name": "stdout",
          "output_type": "stream",
          "text": [
            "a es 3, b es 3.0, c es 3.0000000000000004, d es 3.142857142857143, e es 3\n",
            "a es igual a b? True\n",
            "a es igual a c? False\n",
            "a es igual a d? False\n",
            "a es igual a e? True\n"
          ]
        }
      ],
      "source": [
        "a=3\n",
        "b=3.0\n",
        "c=(0.1+0.2)*10\n",
        "d=22/7\n",
        "e=22//7\n",
        "print(f\"a es {a}, b es {b}, c es {c}, d es {d}, e es {e}\")\n",
        "print(f\"a es igual a b? {a==b}\")\n",
        "print(f\"a es igual a c? {a==c}\")\n",
        "print(f\"a es igual a d? {a==d}\")\n",
        "print(f\"a es igual a e? {a==e}\")"
      ]
    },
    {
      "cell_type": "markdown",
      "metadata": {
        "id": "DyNa0CyvLddE"
      },
      "source": [
        "##Ejercicio 4\n",
        "¿Cuáles son las diferencias y similitudes entre las siguientes expresiones?"
      ]
    },
    {
      "cell_type": "markdown",
      "metadata": {
        "id": "OAjHZIVVLddF"
      },
      "source": [
        "``` python\n",
        "a.  1) 10 + 5\n",
        "    2) 10 + 5.0\n",
        "    3) 10 + 5.\n",
        "```\n",
        "\n",
        "\n"
      ]
    },
    {
      "cell_type": "code",
      "execution_count": 39,
      "metadata": {
        "id": "-eRwWj-MLddF"
      },
      "outputs": [
        {
          "name": "stdout",
          "output_type": "stream",
          "text": [
            "a es 15, b es 15.0, c es 15.0\n",
            "a es igual a b? True\n",
            "a es igual a c? True\n",
            "b es igual a c? True\n"
          ]
        }
      ],
      "source": [
        "a=10+5\n",
        "b=10+5.0\n",
        "c=10+5.\n",
        "\n",
        "print(f\"a es {a}, b es {b}, c es {c}\")\n",
        "print(f\"a es igual a b? {a==b}\")\n",
        "print(f\"a es igual a c? {a==c}\")\n",
        "print(f\"b es igual a c? {c==b}\")"
      ]
    },
    {
      "cell_type": "markdown",
      "metadata": {
        "id": "_0ZdybfqMJpb"
      },
      "source": [
        "``` python\n",
        "b.  1) 11 / 2\n",
        "    2) 11 // 2\n",
        "    3) 11.0 // 2\n",
        "```\n",
        "\n",
        "\n"
      ]
    },
    {
      "cell_type": "code",
      "execution_count": 40,
      "metadata": {
        "id": "4T5GdCQdLddF"
      },
      "outputs": [
        {
          "name": "stdout",
          "output_type": "stream",
          "text": [
            "a es 5.5, b es 5, c es 5.0\n",
            "a es igual a b? False\n",
            "a es igual a c? False\n",
            "b es igual a c? True\n"
          ]
        }
      ],
      "source": [
        "a=11/2\n",
        "b=11//2\n",
        "c=11.0//2\n",
        "\n",
        "print(f\"a es {a}, b es {b}, c es {c}\")\n",
        "print(f\"a es igual a b? {a==b}\")\n",
        "print(f\"a es igual a c? {a==c}\")\n",
        "print(f\"b es igual a c? {c==b}\")"
      ]
    },
    {
      "cell_type": "markdown",
      "metadata": {
        "id": "ruroOrbgMchX"
      },
      "source": [
        "##Ejercicio 5\n",
        "En Python los operadores de suma y de resta, ```+``` y ```-```, pueden ser utilizados con un único argumento (u\n",
        "operando). Ejecutar cada una de las siguientes expresiones e interpretar los resultados."
      ]
    },
    {
      "cell_type": "markdown",
      "metadata": {
        "id": "dm6fvR0tMchX"
      },
      "source": [
        "``` python\n",
        "a. +1\n",
        "```\n",
        "\n",
        "\n"
      ]
    },
    {
      "cell_type": "code",
      "execution_count": 41,
      "metadata": {
        "id": "hmtxspbmMchX"
      },
      "outputs": [
        {
          "data": {
            "text/plain": [
              "1"
            ]
          },
          "execution_count": 41,
          "metadata": {},
          "output_type": "execute_result"
        }
      ],
      "source": [
        "+1"
      ]
    },
    {
      "cell_type": "markdown",
      "metadata": {
        "id": "YLrwEY3qMchX"
      },
      "source": [
        "``` python\n",
        "b. -1\n",
        "```"
      ]
    },
    {
      "cell_type": "code",
      "execution_count": 42,
      "metadata": {
        "id": "2cAVG-81MchY"
      },
      "outputs": [
        {
          "data": {
            "text/plain": [
              "-1"
            ]
          },
          "execution_count": 42,
          "metadata": {},
          "output_type": "execute_result"
        }
      ],
      "source": [
        "-1"
      ]
    },
    {
      "cell_type": "markdown",
      "metadata": {
        "id": "AN8QVD6bMchY"
      },
      "source": [
        "``` python\n",
        "c. +-1\n",
        "```"
      ]
    },
    {
      "cell_type": "code",
      "execution_count": 43,
      "metadata": {
        "id": "iibyl6pcAMOo"
      },
      "outputs": [
        {
          "data": {
            "text/plain": [
              "-1"
            ]
          },
          "execution_count": 43,
          "metadata": {},
          "output_type": "execute_result"
        }
      ],
      "source": [
        "+-1"
      ]
    },
    {
      "cell_type": "markdown",
      "metadata": {
        "id": "Hpv4lOkWMchY"
      },
      "source": [
        "``` python\n",
        "d.  -1\n",
        "```"
      ]
    },
    {
      "cell_type": "code",
      "execution_count": 44,
      "metadata": {
        "id": "OFgDTwo7AMzN"
      },
      "outputs": [
        {
          "data": {
            "text/plain": [
              "-1"
            ]
          },
          "execution_count": 44,
          "metadata": {},
          "output_type": "execute_result"
        }
      ],
      "source": [
        "-1"
      ]
    },
    {
      "cell_type": "code",
      "execution_count": null,
      "metadata": {
        "id": "GptYt8ZyMchZ"
      },
      "outputs": [],
      "source": []
    },
    {
      "cell_type": "markdown",
      "metadata": {
        "id": "AGdJlvXPNVky"
      },
      "source": [
        "##Ejercicio 6\n",
        "Poner paréntesis en las siguientes expresiones de acuerdo a las reglas de precedencia y asociatividad\n",
        "de los operadores. Si no conoce la precedencia de algún operador, se aconseja probarla primero en\n",
        "el intérprete. Una vez hecho esto, determinar el tipo de cada subexpresión entre paréntesis hasta\n",
        "determinar el tipo de la expresión completa."
      ]
    },
    {
      "cell_type": "markdown",
      "metadata": {
        "id": "Xr1cmqHrNVkz"
      },
      "source": [
        "``` python\n",
        "a. 3 * 5 - 7 * 4 / 14 + 3 / 1\n",
        "```\n",
        "\n",
        "\n"
      ]
    },
    {
      "cell_type": "code",
      "execution_count": 46,
      "metadata": {
        "id": "DUBiBe_9NVk0"
      },
      "outputs": [
        {
          "name": "stdout",
          "output_type": "stream",
          "text": [
            "a es 16.0 y b es 16.0\n"
          ]
        }
      ],
      "source": [
        "a=(3*5)-(7*4/14)+(3/1)\n",
        "b=3*5-7*4/14+3/1\n",
        "print(f\"a es {a} y b es {b}\")"
      ]
    },
    {
      "cell_type": "markdown",
      "metadata": {
        "id": "pwL90YRRNVk1"
      },
      "source": [
        "``` python\n",
        "b. 2 ** 1 + 3 / 5 // 4\n",
        "```"
      ]
    },
    {
      "cell_type": "code",
      "execution_count": 52,
      "metadata": {
        "id": "cptWJ22ANVk1"
      },
      "outputs": [
        {
          "name": "stdout",
          "output_type": "stream",
          "text": [
            "a es 2.0 y b es 2.0\n"
          ]
        }
      ],
      "source": [
        "a=(2**1)+((3/5)//4)\n",
        "b=2**1+3/5//4\n",
        "print(f\"a es {a} y b es {b}\")"
      ]
    },
    {
      "cell_type": "markdown",
      "metadata": {
        "id": "u2Q17aQaNVk2"
      },
      "source": [
        "``` python\n",
        "c. 8 / 4 / 2 ** 2 ** 2\n",
        "```"
      ]
    },
    {
      "cell_type": "code",
      "execution_count": 53,
      "metadata": {
        "id": "jzsD54CXNVk3"
      },
      "outputs": [
        {
          "name": "stdout",
          "output_type": "stream",
          "text": [
            "a es 0.125 y b es 0.125\n"
          ]
        }
      ],
      "source": [
        "a=(8/4)/(2**2**2)\n",
        "b=8/4/2**2**2\n",
        "print(f\"a es {a} y b es {b}\")"
      ]
    },
    {
      "cell_type": "markdown",
      "metadata": {
        "id": "bzEq1cbGjItx"
      },
      "source": [
        "##Ejercicio 7\n",
        "Encontrar el resultado que devuelven las siguientes expresiones.\n"
      ]
    },
    {
      "cell_type": "markdown",
      "metadata": {
        "id": "ZStMvITkOBf3"
      },
      "source": [
        "``` python\n",
        "(4 >= 40 and 8 <= 10) or (2 < 20 or 10 > 100)\n",
        "```"
      ]
    },
    {
      "cell_type": "code",
      "execution_count": 55,
      "metadata": {
        "id": "pcNY5kt8_kd9"
      },
      "outputs": [
        {
          "data": {
            "text/plain": [
              "True"
            ]
          },
          "execution_count": 55,
          "metadata": {},
          "output_type": "execute_result"
        }
      ],
      "source": [
        "(4>=40 and 8<=10) or (2<20 or 10>100) #(FyT) v (TvF) = F v T= T"
      ]
    },
    {
      "cell_type": "markdown",
      "metadata": {
        "id": "1OJaIU6COLXX"
      },
      "source": [
        "``` python\n",
        "4<=10 or (2/0)==1\n",
        "```"
      ]
    },
    {
      "cell_type": "code",
      "execution_count": 56,
      "metadata": {
        "id": "C0hfhFMlN_9L"
      },
      "outputs": [
        {
          "data": {
            "text/plain": [
              "True"
            ]
          },
          "execution_count": 56,
          "metadata": {},
          "output_type": "execute_result"
        }
      ],
      "source": [
        "4<=10 or (2/0)==1 #T o F = True"
      ]
    },
    {
      "cell_type": "markdown",
      "metadata": {
        "id": "rHUEZLDAObFY"
      },
      "source": [
        "``` python\n",
        "(8 >= 10 or 4 <= 8) and (3 != 10 or 10 >= 4)\n",
        "```"
      ]
    },
    {
      "cell_type": "code",
      "execution_count": 57,
      "metadata": {
        "id": "V5owTK5IN_vM"
      },
      "outputs": [
        {
          "data": {
            "text/plain": [
              "True"
            ]
          },
          "execution_count": 57,
          "metadata": {},
          "output_type": "execute_result"
        }
      ],
      "source": [
        "(8>=10 or 4<=8) and (3!=10 or 10>=4) #(FoT)y(ToT)=TyT=True"
      ]
    },
    {
      "cell_type": "markdown",
      "metadata": {
        "id": "qxI8EAGoOhib"
      },
      "source": [
        "``` python\n",
        "(50 > 49 and 7 == 5) or (15 <= 14 or 10 > 100)\n",
        "```"
      ]
    },
    {
      "cell_type": "code",
      "execution_count": 58,
      "metadata": {
        "id": "Av6W9sJ7N_ly"
      },
      "outputs": [
        {
          "data": {
            "text/plain": [
              "False"
            ]
          },
          "execution_count": 58,
          "metadata": {},
          "output_type": "execute_result"
        }
      ],
      "source": [
        "(50 > 49 and 7 == 5) or (15 <= 14 or 10 > 100) #(TyF)o(FoF)=FoF=False"
      ]
    },
    {
      "cell_type": "markdown",
      "metadata": {
        "id": "OC87AUlsOpna"
      },
      "source": [
        "``` python\n",
        "not(not(10 >= 8) and 1 > 3) or (2 != 3 and 2 < 8)\n",
        "```"
      ]
    },
    {
      "cell_type": "code",
      "execution_count": 59,
      "metadata": {
        "id": "IC6ivd-xN_cf"
      },
      "outputs": [
        {
          "data": {
            "text/plain": [
              "True"
            ]
          },
          "execution_count": 59,
          "metadata": {},
          "output_type": "execute_result"
        }
      ],
      "source": [
        "not(not(10 >= 8) and 1 > 3) or (2 != 3 and 2 < 8) #(not(not(T) y F) o (T y T)= (not(F) y F) o (T)= (T y F) o T= F o T =True"
      ]
    },
    {
      "cell_type": "markdown",
      "metadata": {
        "id": "OUMIWaX_Owrn"
      },
      "source": [
        "``` python\n",
        "(4 > 2 or 7 > 6) and not(3 < 6 or 2 > 0)\n",
        "```"
      ]
    },
    {
      "cell_type": "code",
      "execution_count": 60,
      "metadata": {
        "id": "7ECqcVYaOweU"
      },
      "outputs": [
        {
          "data": {
            "text/plain": [
              "False"
            ]
          },
          "execution_count": 60,
          "metadata": {},
          "output_type": "execute_result"
        }
      ],
      "source": [
        "(4 > 2 or 7 > 6) and not(3 < 6 or 2 > 0) #(ToT) y not(ToT)=TyF=False"
      ]
    },
    {
      "cell_type": "markdown",
      "metadata": {
        "id": "B8t63eYFPEsH"
      },
      "source": [
        "``` python\n",
        "not(0)\n",
        "```\n"
      ]
    },
    {
      "cell_type": "code",
      "execution_count": 61,
      "metadata": {
        "id": "5AG7btTWN_TY"
      },
      "outputs": [
        {
          "data": {
            "text/plain": [
              "True"
            ]
          },
          "execution_count": 61,
          "metadata": {},
          "output_type": "execute_result"
        }
      ],
      "source": [
        "not(0) #es not False da True"
      ]
    },
    {
      "cell_type": "markdown",
      "metadata": {
        "id": "yeENqa0tPUqb"
      },
      "source": [
        "``` python\n",
        "not(1)\n",
        "```"
      ]
    },
    {
      "cell_type": "code",
      "execution_count": 62,
      "metadata": {
        "id": "oaJQ_QRcN_J_"
      },
      "outputs": [
        {
          "data": {
            "text/plain": [
              "False"
            ]
          },
          "execution_count": 62,
          "metadata": {},
          "output_type": "execute_result"
        }
      ],
      "source": [
        "not(1) #es not True da False"
      ]
    },
    {
      "cell_type": "markdown",
      "metadata": {
        "id": "0f7lzfs3PWcm"
      },
      "source": [
        "``` python\n",
        "not(8)\n",
        "```"
      ]
    },
    {
      "cell_type": "code",
      "execution_count": null,
      "metadata": {
        "id": "27dCN_MUN_Az"
      },
      "outputs": [
        {
          "data": {
            "text/plain": [
              "False"
            ]
          },
          "execution_count": 63,
          "metadata": {},
          "output_type": "execute_result"
        }
      ],
      "source": [
        "not(8) #Not cualquier cosa distinta de cero da False. Es Not True"
      ]
    },
    {
      "cell_type": "markdown",
      "metadata": {
        "id": "sth9PlJePaYX"
      },
      "source": [
        "``` python\n",
        "not('a')\n",
        "```"
      ]
    },
    {
      "cell_type": "code",
      "execution_count": null,
      "metadata": {
        "id": "WMzKxSuyN-3N"
      },
      "outputs": [
        {
          "data": {
            "text/plain": [
              "False"
            ]
          },
          "execution_count": 64,
          "metadata": {},
          "output_type": "execute_result"
        }
      ],
      "source": [
        "not('a') #Not cualquier cosa distinta de cero da False. Es Not True"
      ]
    },
    {
      "cell_type": "markdown",
      "metadata": {
        "id": "jf7j_mpiPf_9"
      },
      "source": [
        "``` python\n",
        "not([])\n",
        "```"
      ]
    },
    {
      "cell_type": "code",
      "execution_count": 66,
      "metadata": {
        "id": "ZUMoXuT2N-r6"
      },
      "outputs": [
        {
          "data": {
            "text/plain": [
              "True"
            ]
          },
          "execution_count": 66,
          "metadata": {},
          "output_type": "execute_result"
        }
      ],
      "source": [
        "not([]) #not vacio da True porque es como 0?"
      ]
    },
    {
      "cell_type": "markdown",
      "metadata": {
        "id": "th7QNEPIPsxP"
      },
      "source": [
        "``` python\n",
        "not('') or not(' ')\n",
        "```"
      ]
    },
    {
      "cell_type": "code",
      "execution_count": 70,
      "metadata": {
        "id": "VjVpQ-38PsjH"
      },
      "outputs": [
        {
          "data": {
            "text/plain": [
              "True"
            ]
          },
          "execution_count": 70,
          "metadata": {},
          "output_type": "execute_result"
        }
      ],
      "source": [
        "not('') or not(' ') #El primero es notF y el segundo tiene un espacio es notT"
      ]
    },
    {
      "cell_type": "markdown",
      "metadata": {
        "id": "9zbVa1fs9Ny1"
      },
      "source": [
        "##Ejercicio 8\n",
        "Considerar los siguientes fragmentos de código, y verificar si son correctos o no. En caso de no serlo, proponer un cambio para arreglarlo."
      ]
    },
    {
      "cell_type": "markdown",
      "metadata": {
        "id": "-omB8LgCJ1lS"
      },
      "source": [
        "``` python\n",
        "a.    print ( saludo + \" \" + destino + puntuacion )\n",
        "      saludo = \" Hola \"\n",
        "      destino = \" Mundo \"\n",
        "      puntuacion = \" ! \"\n",
        "```\n",
        "\n",
        "\n"
      ]
    },
    {
      "cell_type": "code",
      "execution_count": 71,
      "metadata": {
        "id": "hoKrdi-8UJ68"
      },
      "outputs": [
        {
          "name": "stdout",
          "output_type": "stream",
          "text": [
            " Hola   Mundo  ! \n"
          ]
        }
      ],
      "source": [
        "saludo = \" Hola \"\n",
        "destino = \" Mundo \"\n",
        "puntuacion = \" ! \"\n",
        "print ( saludo + \" \" + destino + puntuacion )"
      ]
    },
    {
      "cell_type": "markdown",
      "metadata": {
        "id": "ykz7NxBcJ1lT"
      },
      "source": [
        "``` python\n",
        "b.  cateto1 = 3\n",
        "    cateto2 = 4\n",
        "    hipotenusa = (( cateto1 ** 2) + ( cateto2 ** 2)) ** 0.5\n",
        "    del cateto1\n",
        "    del cateto2\n",
        "    print ( hipotenusa )\n",
        "```"
      ]
    },
    {
      "cell_type": "code",
      "execution_count": 72,
      "metadata": {
        "id": "gzjnUlfiJ1lT"
      },
      "outputs": [
        {
          "name": "stdout",
          "output_type": "stream",
          "text": [
            "5.0\n"
          ]
        }
      ],
      "source": [
        "cateto1=3\n",
        "cateto2=4\n",
        "hipotenusa=((cateto1**2)+(cateto2**2))**0.5\n",
        "print(hipotenusa)\n",
        "del cateto1 \n",
        "del cateto2"
      ]
    },
    {
      "cell_type": "markdown",
      "metadata": {
        "id": "0LSR01ZlJ1lU"
      },
      "source": [
        "``` python\n",
        "c.  del tengo_hambre\n",
        "    tengo_hambre = False\n",
        "    del tengo_hambre\n",
        "    tengo_hambre = True\n",
        "```"
      ]
    },
    {
      "cell_type": "code",
      "execution_count": 73,
      "metadata": {
        "id": "R_4AbI3bJ1lV"
      },
      "outputs": [],
      "source": [
        "tengo_hambre=False\n",
        "del tengo_hambre\n",
        "tengo_hambre=True"
      ]
    },
    {
      "cell_type": "markdown",
      "metadata": {
        "id": "NP5dUr9aSWwd"
      },
      "source": [
        "#Ejercicio 9\n",
        "A partir de la siguiente página web:\n",
        "\n",
        "``` python\n",
        "sitio_web = \"https://fceia.unr.edu.ar/noticias-fceia\"\n",
        "```\n",
        "\n",
        "Obtener las partes útiles de una url usando slicing:\n",
        "\n",
        "![image.png](data:image/png;base64,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)\n"
      ]
    },
    {
      "cell_type": "code",
      "execution_count": 75,
      "metadata": {
        "colab": {
          "base_uri": "https://localhost:8080/"
        },
        "id": "Qhl__NqybYrf",
        "outputId": "c30a1873-686e-495f-ff0f-989e2c9e0c15"
      },
      "outputs": [
        {
          "name": "stdout",
          "output_type": "stream",
          "text": [
            "https://\n",
            "fceia.unr.edu.ar/\n",
            "noticias-fceia\n"
          ]
        }
      ],
      "source": [
        "sitio_web = \"https://fceia.unr.edu.ar/noticias-fceia\"\n",
        "protocolo = sitio_web[0:8]\n",
        "print(protocolo)\n",
        "dominio = sitio_web[8:25]\n",
        "print(dominio)\n",
        "ruta = sitio_web[25:len(sitio_web)]\n",
        "print(ruta)"
      ]
    },
    {
      "cell_type": "markdown",
      "metadata": {
        "id": "exV6elN3c2Ir"
      },
      "source": [
        "siempre utilizamos [inicio:fin+1]"
      ]
    },
    {
      "cell_type": "code",
      "execution_count": 76,
      "metadata": {
        "colab": {
          "base_uri": "https://localhost:8080/"
        },
        "id": "Lqv3Z_2Vc5xF",
        "outputId": "b92702d2-85bc-4b86-f845-ec56ff0da923"
      },
      "outputs": [
        {
          "name": "stdout",
          "output_type": "stream",
          "text": [
            "noticias-fceia\n"
          ]
        }
      ],
      "source": [
        "sitio_web = \"https://fceia.unr.edu.ar/noticias-fceia\"\n",
        "ruta = sitio_web[25:]\n",
        "print(ruta)"
      ]
    },
    {
      "cell_type": "markdown",
      "metadata": {
        "id": "2aTBKvxgdJeO"
      },
      "source": [
        "por defecto si no pongo posicion final va a ser len(cadena)"
      ]
    },
    {
      "cell_type": "code",
      "execution_count": 77,
      "metadata": {
        "colab": {
          "base_uri": "https://localhost:8080/"
        },
        "id": "SoR8Iy4LdI74",
        "outputId": "ab678f6a-53ed-434e-ef3f-0edf152fd3c1"
      },
      "outputs": [
        {
          "name": "stdout",
          "output_type": "stream",
          "text": [
            "https://\n"
          ]
        }
      ],
      "source": [
        "sitio_web = \"https://fceia.unr.edu.ar/noticias-fceia\"\n",
        "protocolo = sitio_web[:8]\n",
        "print(protocolo)"
      ]
    },
    {
      "cell_type": "markdown",
      "metadata": {
        "id": "EvW_kcZPdYx_"
      },
      "source": [
        "por defecto si no pongo posicion inicial va a ser 0"
      ]
    },
    {
      "cell_type": "markdown",
      "metadata": {
        "id": "874QiK5ZS1NB"
      },
      "source": [
        "#Ejercicio 10\n",
        "Sea la cadena de caracteres numéricos:\n",
        "\n",
        "``` python\n",
        "numeros = \"0123456789\"\n",
        "```\n",
        "\n",
        "Obtener los números pares y el cero usando slicing."
      ]
    },
    {
      "cell_type": "code",
      "execution_count": 80,
      "metadata": {},
      "outputs": [
        {
          "name": "stdout",
          "output_type": "stream",
          "text": [
            "02468\n"
          ]
        }
      ],
      "source": [
        "numeros = \"0123456789\"\n",
        "pares1=numeros[0]+numeros[2]+numeros[4]+numeros[6]+numeros[8]\n",
        "pares=numeros[::2]\n",
        "print(pares)"
      ]
    },
    {
      "cell_type": "markdown",
      "metadata": {
        "id": "rvuumEnZ_x6n"
      },
      "source": [
        "## Ejercicio 11\n",
        "Traducir las siguientes expresiones del lenguaje natural a expresiones booleanas en equivalentes en\n",
        "Python. Determinar su veracidad o falsedad corriendo la expresión en el intérprete."
      ]
    },
    {
      "cell_type": "markdown",
      "metadata": {
        "id": "xEa0uHN5VKx-"
      },
      "source": [
        ">>\n",
        "a. La longitud de la cadena \"Hola, mundo\" es 14.\n",
        "\n",
        "\n"
      ]
    },
    {
      "cell_type": "code",
      "execution_count": 83,
      "metadata": {
        "id": "v4Ab4gAwVKx-"
      },
      "outputs": [
        {
          "name": "stdout",
          "output_type": "stream",
          "text": [
            "la longitud es 11\n"
          ]
        },
        {
          "data": {
            "text/plain": [
              "False"
            ]
          },
          "execution_count": 83,
          "metadata": {},
          "output_type": "execute_result"
        }
      ],
      "source": [
        "a=\"Hola, mundo\"\n",
        "print(f\"la longitud es {len(a)}\")\n",
        "len(a)==14"
      ]
    },
    {
      "cell_type": "markdown",
      "metadata": {
        "id": "fFjYeU9iVKyA"
      },
      "source": [
        ">>\n",
        "b. El área de un cuadrado de lado 5 es igual a la raíz cuadrada de 625."
      ]
    },
    {
      "cell_type": "code",
      "execution_count": 84,
      "metadata": {
        "id": "j9JyDRJHVKyA"
      },
      "outputs": [
        {
          "data": {
            "text/plain": [
              "True"
            ]
          },
          "execution_count": 84,
          "metadata": {},
          "output_type": "execute_result"
        }
      ],
      "source": [
        "area=5**2\n",
        "b=625**0.5\n",
        "area==b"
      ]
    },
    {
      "cell_type": "markdown",
      "metadata": {
        "id": "NplRxXA7VKyA"
      },
      "source": [
        ">>\n",
        "c. El diámetro de un círculo de radio 3,25 es menor que 7 y mayor a 6."
      ]
    },
    {
      "cell_type": "code",
      "execution_count": 86,
      "metadata": {
        "id": "Sp4NO0lYWizt"
      },
      "outputs": [
        {
          "name": "stdout",
          "output_type": "stream",
          "text": [
            "False\n"
          ]
        }
      ],
      "source": [
        "diametro=6<3.25<7\n",
        "print(diametro)"
      ]
    },
    {
      "cell_type": "markdown",
      "metadata": {
        "id": "d3LRdJMbWhro"
      },
      "source": [
        ">>\n",
        "d. La aproximación de Pi = 22 / 7 es un número mayor que 3, y 2 + 2 es igual a 5."
      ]
    },
    {
      "cell_type": "code",
      "execution_count": 89,
      "metadata": {
        "id": "ARYO_bc9Wvnx"
      },
      "outputs": [
        {
          "data": {
            "text/plain": [
              "False"
            ]
          },
          "execution_count": 89,
          "metadata": {},
          "output_type": "execute_result"
        }
      ],
      "source": [
        "22/7 > 3 and  2+2 == 5\n"
      ]
    },
    {
      "cell_type": "markdown",
      "metadata": {
        "id": "Sse5UqqXWuok"
      },
      "source": [
        ">>\n",
        "e. El numero 10 es mayor a 5 o 0 dividido 0 es igual 0."
      ]
    },
    {
      "cell_type": "code",
      "execution_count": 88,
      "metadata": {
        "id": "qJEagmylW3mh"
      },
      "outputs": [
        {
          "data": {
            "text/plain": [
              "True"
            ]
          },
          "execution_count": 88,
          "metadata": {},
          "output_type": "execute_result"
        }
      ],
      "source": [
        "10>5 or 0/0==0 #da True porque solo mira la primera parte, no llega al error de la segunda"
      ]
    },
    {
      "cell_type": "markdown",
      "metadata": {
        "id": "R4GC54LxW25y"
      },
      "source": [
        ">>\n",
        "f. La cadena \"Python\" tiene longitud 5 y 1+\"1\" es igual a 2."
      ]
    },
    {
      "cell_type": "code",
      "execution_count": 92,
      "metadata": {
        "id": "ZV9j4V5-VKyB"
      },
      "outputs": [
        {
          "data": {
            "text/plain": [
              "False"
            ]
          },
          "execution_count": 92,
          "metadata": {},
          "output_type": "execute_result"
        }
      ],
      "source": [
        "cad='Python'\n",
        "len(cad)==5 and 1+'1'==2 #el primero da false y no mira el error del segundo que suma int con str"
      ]
    },
    {
      "cell_type": "markdown",
      "metadata": {
        "id": "LNIB724wJ1lS"
      },
      "source": [
        "##Ejercicio 12"
      ]
    },
    {
      "cell_type": "markdown",
      "metadata": {
        "id": "DeVPtZP6BNYb"
      },
      "source": [
        "Proponga un algoritmo (en lenguaje natural) para resolver cada uno de los siguientes problemas.\n",
        "\n",
        "> a.   Dada la base y altura de un rectángulo, informar el área y su perı́metro."
      ]
    },
    {
      "cell_type": "code",
      "execution_count": 93,
      "metadata": {
        "id": "cE1iVJaSkcSE"
      },
      "outputs": [
        {
          "name": "stdout",
          "output_type": "stream",
          "text": [
            "el area del rectangulo es 50.0, y su perimetro es 30.0\n"
          ]
        }
      ],
      "source": [
        "base=float(input('Ingrese base del rectangulo'))\n",
        "altura=float(input('Ingrese altura del rectangulo'))\n",
        "area=base*altura\n",
        "perimetro=base*2+altura*2\n",
        "print(f'el area del rectangulo es {area}, y su perimetro es {perimetro}')"
      ]
    },
    {
      "cell_type": "markdown",
      "metadata": {
        "id": "FvRbubyBkc68"
      },
      "source": [
        "\n",
        "\n",
        "> b.   Calcular la nota final de un alumno que se obtiene de promediar las 3 notas de sus parciales.\n"
      ]
    },
    {
      "cell_type": "code",
      "execution_count": 95,
      "metadata": {
        "id": "iRmTc9Vmkgod"
      },
      "outputs": [
        {
          "name": "stdout",
          "output_type": "stream",
          "text": [
            "El promedio de las 3 notas es 8.666666666666666\n"
          ]
        }
      ],
      "source": [
        "n1=int(input('Ingrese nota 1'))\n",
        "n2=int(input('Ingrese nota 2'))\n",
        "n3=int(input('Ingrese nota 3'))\n",
        "suma=n1+n2+n3\n",
        "sum=[n1,n2,n3]\n",
        "promedio=suma/len(sum)\n",
        "print(f'El promedio de las 3 notas es {promedio}')"
      ]
    },
    {
      "cell_type": "markdown",
      "metadata": {
        "id": "nkJcft3okhAs"
      },
      "source": [
        "> c. Calcular la distancia de dos puntos en el plano.\n"
      ]
    },
    {
      "cell_type": "code",
      "execution_count": 96,
      "metadata": {
        "colab": {
          "base_uri": "https://localhost:8080/"
        },
        "id": "1ZLAWadvkj3_",
        "outputId": "800e99c4-e7a3-41da-c131-a9686e092014"
      },
      "outputs": [
        {
          "name": "stdout",
          "output_type": "stream",
          "text": [
            "distancia: 5.830951894845301\n"
          ]
        }
      ],
      "source": [
        "import math\n",
        "# Entrada\n",
        "x1 = int(input('Ingrese x1: '))\n",
        "y1 = input('Ingrese y1: ')\n",
        "y1 = int(y1)\n",
        "x2 = int(input('Ingrese x2: '))\n",
        "y2 = int(input('Ingrese y2: '))\n",
        "\n",
        "# Procesamiento\n",
        "distancia = ((x2-x1)**2+(y2-y1)**2)**(1/2) #la raiz de (a**2+b**2)\n",
        "dis = math.sqrt(math.pow(x2-x1, 2) + math.pow(y2-y1, 2))\n",
        "\n",
        "# Salida\n",
        "print(f'distancia: {distancia}')"
      ]
    },
    {
      "cell_type": "markdown",
      "metadata": {
        "id": "xwuh0qWpkkky"
      },
      "source": [
        "Ahora, con ayuda de su docente, empezaremos a ver cómo escribir estos algoritmos como programas\n",
        "en Python."
      ]
    },
    {
      "cell_type": "markdown",
      "metadata": {
        "id": "ywWVqo3CFAmR"
      },
      "source": [
        "##Ejercicio 13\n",
        "Escribir un algoritmo en el cual se pida al usuario que responda a la pregunta: \"¿Cómo está el dı́a de hoy? (soleado, nublado, lloviendo)\". A continuación, mostrar por pantalla un mensaje que indique “El dı́a de hoy está . . . ”, completando el mensaje con el dato que ingresó el usuario."
      ]
    },
    {
      "cell_type": "code",
      "execution_count": null,
      "metadata": {
        "id": "-KSWvPhqFAmV"
      },
      "outputs": [],
      "source": []
    },
    {
      "cell_type": "markdown",
      "metadata": {
        "id": "gtoLpleJF4mD"
      },
      "source": [
        "##Ejercicio 14\n",
        "Conocido el número en matemática PI, pedir al usuario que ingrese el valor del radio de una circunferencia y calcular y mostrar por pantalla el área y perı́metro. Recuerde que para calcular el área y el perı́metro se utilizan las siguientes fórmulas:\n",
        "\n",
        ">>Area = π *radio2\n",
        "\n",
        ">>Perimetro = 2 * π * radio"
      ]
    },
    {
      "cell_type": "code",
      "execution_count": 97,
      "metadata": {
        "colab": {
          "base_uri": "https://localhost:8080/"
        },
        "id": "7YL0BDbEF4mF",
        "outputId": "1f548f6e-f8bd-41cb-ba5f-41b2ab60d4c1"
      },
      "outputs": [
        {
          "name": "stdout",
          "output_type": "stream",
          "text": [
            "radio: 3.0\n",
            "area: 28.285714285714285\tperimetro: 18.86\n"
          ]
        }
      ],
      "source": [
        "pi = 22/7\n",
        "radio = float(input('Ingrese el radio de la circunferencia: '))\n",
        "area = pi*radio**2\n",
        "perimetro = round(2*pi*radio, 2)\n",
        "\n",
        "print(f'radio: {radio}\\narea: {area}\\tperimetro: {perimetro}')"
      ]
    },
    {
      "cell_type": "markdown",
      "metadata": {
        "id": "2LxNI9XJGV1i"
      },
      "source": [
        "##Ejercicio 15\n",
        "Escribir un programa que calcule el precio promedio de un producto. El precio promedio se debe\n",
        "calcular a partir del precio del mismo producto en tres establecimientos distintos."
      ]
    },
    {
      "cell_type": "code",
      "execution_count": null,
      "metadata": {
        "id": "fzsldvQZGV1k"
      },
      "outputs": [],
      "source": []
    },
    {
      "cell_type": "markdown",
      "metadata": {
        "id": "zf3ye-MUGh0m"
      },
      "source": [
        "##Ejercicio 16\n",
        "A partir de una conocida cantidad de metros que el usuario ingresa a través del teclado se debe obtener\n",
        "su equivalente en centı́metros, en milı́metros y en pulgadas.\n",
        "\n",
        "Ayuda: 1 pulgada equivale a 2.54 centı́metros"
      ]
    },
    {
      "cell_type": "code",
      "execution_count": null,
      "metadata": {
        "id": "AX7yqakkGh0o"
      },
      "outputs": [
        {
          "name": "stdout",
          "output_type": "stream",
          "text": [
            "1546523.0m equivalen a 154652300.0 centimetros, 1546523000.0 milimetros y 392816842.0 pulgadas\n"
          ]
        }
      ],
      "source": [
        "metros=float(input('Ingrese la cantidad de metros'))\n",
        "cm=metros*100\n",
        "mm=metros*1000\n",
        "pulg=cm*2.54\n",
        "print(f'{metros} metros equivalen a {cm} centimetros, {mm} milimetros y {pulg} pulgadas')"
      ]
    },
    {
      "cell_type": "markdown",
      "metadata": {
        "id": "2cD69cB2QDPU"
      },
      "source": [
        "##Ejercicio 17\n",
        "Convertir a segundos una hora que viene expresada en horas, minutos y segundos. Ingresar los datos y visualizar por pantalla los segundos totales obtenidos.\n",
        "\n",
        "\n"
      ]
    },
    {
      "cell_type": "code",
      "execution_count": 100,
      "metadata": {
        "id": "2q-dF5McQDsq"
      },
      "outputs": [
        {
          "name": "stdout",
          "output_type": "stream",
          "text": [
            "13:25:52 equivalen a 48352 segundos\n"
          ]
        }
      ],
      "source": [
        "hora=int(input('Ingrese la hora'))\n",
        "min=int(input('Ingrese los minutos'))\n",
        "seg=int(input('Ingrese los segundos'))\n",
        "segTotal=hora*3600+min*60+seg\n",
        "print(f'{hora}:{min}:{seg} equivalen a {segTotal} segundos')"
      ]
    },
    {
      "cell_type": "markdown",
      "metadata": {
        "id": "Wpsjff43QRyF"
      },
      "source": [
        "##Ejercicio 18\n",
        "Convertir a horas, minutos y segundos una hora que viene expresada en segundos. Ingresar los segundos por teclado y mostrar por pantalla los valores obtenidos con el formato hh:mm:ss.\n"
      ]
    },
    {
      "cell_type": "code",
      "execution_count": 107,
      "metadata": {
        "id": "bch1DOYxQSbo"
      },
      "outputs": [
        {
          "name": "stdout",
          "output_type": "stream",
          "text": [
            "los 48352 segundos equivalen a 13:25:52\n"
          ]
        }
      ],
      "source": [
        "segTotal=int(input('Ingrese los segundos'))\n",
        "hora=segTotal//3600\n",
        "resto=segTotal%3600 #devuelve el resto de la division\n",
        "min=resto//60\n",
        "seg=resto%60 #Calcula los segundos que sobran después de extraer los minutos completos\n",
        "print(f'los {segTotal} segundos equivalen a {hora:02d}:{min:02d}:{seg:02d}') #:02d significa: mostrar el número con 2 dígitos, rellenando con cero a la izquierda si es necesario"
      ]
    },
    {
      "cell_type": "markdown",
      "metadata": {
        "id": "pFZj9KkDGtK7"
      },
      "source": [
        "##Ejercicio 19\n",
        "Escribir un programa que calcule cuántos litros de combustible consumió un automóvil. El usuario debe\n",
        "ingresar una cantidad de litros de combustible cargados en la estación y una cantidad de kilómetros\n",
        "recorridos. Después, el programa calculará el consumo (km/lt) y se lo mostrará al usuario."
      ]
    },
    {
      "cell_type": "code",
      "execution_count": 110,
      "metadata": {
        "id": "mRnvWVzKGtK9"
      },
      "outputs": [
        {
          "name": "stdout",
          "output_type": "stream",
          "text": [
            "El consumo del auto al recorrer 1642.0 kms es de 68.42 km/lts\n"
          ]
        }
      ],
      "source": [
        "lts=float(input('Ingrese la cantidad de litros'))\n",
        "km=float(input('Ingrese la cantidad de km recorridos'))\n",
        "consumo=km/lts\n",
        "print(f'El consumo del auto al recorrer {km} kms es de {consumo:.2f} km/lts') #:.2f indica que quieres 2 decimales después del punto\n"
      ]
    },
    {
      "cell_type": "markdown",
      "metadata": {
        "id": "v5dTawUyHERl"
      },
      "source": [
        "##Ejercicio 20\n",
        "Escriba un programa que permita al usuario ingresar el valor de dos variables numéricas de tipo entero.\n",
        "Posteriormente, el programa debe intercambiar los valores de ambas variables y mostrar el resultado\n",
        "final por pantalla. Por ejemplo, si el usuario ingresa los valores num1 = 9 y num2 = 3, la salida del programa deberá mostrar: num1 = 3 y num2 = 9.\n",
        "\n",
        "Ayuda: Para intercambiar los valores de dos variables se debe utilizar una variable auxiliar."
      ]
    },
    {
      "cell_type": "code",
      "execution_count": null,
      "metadata": {
        "colab": {
          "base_uri": "https://localhost:8080/"
        },
        "id": "nCRUVFGUHERm",
        "outputId": "6afe3592-fe95-4f7d-b02a-43ce4f0b710f"
      },
      "outputs": [
        {
          "name": "stdout",
          "output_type": "stream",
          "text": [
            "Inicialmente:\t num1 = 9, \t num2 = 3\n",
            "Finalmente:\t num1 = 3, \t num2 = 9\n"
          ]
        }
      ],
      "source": [
        "num1 = 9\n",
        "num2 = 3\n",
        "print(f'Inicialmente:\\t num1 = {num1}, \\t num2 = {num2}')\n",
        "\n",
        "aux = num2\n",
        "num2 = num1\n",
        "num1 = aux\n",
        "del aux\n",
        "print(f'Finalmente:\\t num1 = {num1}, \\t num2 = {num2}')"
      ]
    },
    {
      "cell_type": "markdown",
      "metadata": {
        "id": "ApvAKxAoHg1J"
      },
      "source": [
        "##Ejercicio 21\n",
        "Escriba un programa que permita al usuario ingresar el valor de tres variables numéricas de tipo entero.\n",
        "Posteriormente, el programa debe intercambiar los valores de las tres variables y mostrar el resultado\n",
        "final por pantalla.\n",
        "Por ejemplo, si el usuario ingresa los valores num1 = 9, num2 = 3 y num3 = 5 la salida del programa\n",
        "deberá mostrar: num1 = 5, num2 = 9 y num3 = 3.\n",
        "\n",
        "Ayuda: Para intercambiar los valores de tres variables se debe utilizar una variable auxiliar."
      ]
    },
    {
      "cell_type": "code",
      "execution_count": null,
      "metadata": {
        "colab": {
          "base_uri": "https://localhost:8080/"
        },
        "id": "YgiM3gLxHg1L",
        "outputId": "13990137-2188-40b8-ea83-a7e3b7b8d51e"
      },
      "outputs": [
        {
          "name": "stdout",
          "output_type": "stream",
          "text": [
            "Inicialmente:\t num1 = 9, \t num2 = 3, \t num3 = 5\n",
            "Finalmente:\t num1 = 3, \t num2 = 5, \t num3 = 9\n"
          ]
        }
      ],
      "source": [
        "num1 = 9\n",
        "num2 = 3\n",
        "num3 = 5\n",
        "print(f'Inicialmente:\\t num1 = {num1}, \\t num2 = {num2}, \\t num3 = {num3}')\n",
        "\n",
        "aux = num1\n",
        "num1 = num2\n",
        "num2 = num3\n",
        "num3 = aux\n",
        "del aux\n",
        "print(f'Finalmente:\\t num1 = {num1}, \\t num2 = {num2}, \\t num3 = {num3}')"
      ]
    },
    {
      "cell_type": "markdown",
      "metadata": {
        "id": "xAetyTwxIEW2"
      },
      "source": [
        "##Ejercicio 22\n",
        "Escriba un programa que lea dos números enteros y realice el cálculo de la suma, resta, multiplicación\n",
        "y división entre ambos valores. Los resultados deben mostrarse por pantalla."
      ]
    },
    {
      "cell_type": "code",
      "execution_count": 112,
      "metadata": {
        "id": "BmffZhgwIEW3"
      },
      "outputs": [
        {
          "name": "stdout",
          "output_type": "stream",
          "text": [
            "22 - Suma: 3.0\n",
            "22 - Resta: -1.0\n",
            "22 - Multiplicación: 2.0\n",
            "22 - División: 0.5\n"
          ]
        }
      ],
      "source": [
        "num1, num2 = float(input('Ingrese el numero 1')), float(input('Ingrese el numero 2'))\n",
        "print(\"22 - Suma:\", num1 + num2)\n",
        "print(\"22 - Resta:\", num1 - num2)\n",
        "print(\"22 - Multiplicación:\", num1 * num2)\n",
        "print(\"22 - División:\", num1 / num2)"
      ]
    },
    {
      "cell_type": "markdown",
      "metadata": {
        "id": "6dwwF4PhIOmL"
      },
      "source": [
        "##Ejercicio 23\n",
        "Un colegio desea saber qué porcentaje de niños y qué porcentaje de niñas hay en el curso actual.\n",
        "Diseñar un algoritmo para este propósito. Recuerde que para calcular el porcentaje puede hacer una\n",
        "regla de 3 simple. El programa debe solicitar al usuario que ingrese la cantidad total de niños, y la\n",
        "cantidad total de niñas que hay en el curso."
      ]
    },
    {
      "cell_type": "code",
      "execution_count": null,
      "metadata": {
        "id": "zam2g-0DIOmQ"
      },
      "outputs": [
        {
          "name": "stdout",
          "output_type": "stream",
          "text": [
            "la cantidad de niños en el curso es 5 y la de niñas es25. Respectivamente son un 16.67 % y 83.33 %\n"
          ]
        }
      ],
      "source": [
        "nenes=int(input('Ingrese cantidad de niños en el curso'))\n",
        "nenas=int(input('Ingrese cantidad de niñas en el curso'))\n",
        "total=nenes+nenas\n",
        "n1=(nenes/total)*100\n",
        "n2=(nenas/total)*100\n",
        "print(f'la cantidad de niños en el curso es {nenes} y la de niñas es {nenas}. Respectivamente son un {n1:.2f} % y {n2:.2f} %')"
      ]
    },
    {
      "cell_type": "markdown",
      "metadata": {
        "id": "gz_Ke91bIefU"
      },
      "source": [
        "##Ejercicio 24\n",
        "A partir de una conocida cantidad de dı́as que el usuario ingresa a través del teclado, escriba un\n",
        "programa para convertir los dı́as en horas, en minutos y en segundos. Por ejemplo:\n",
        "1 dı́a = 24 horas = 1440 minutos = 86400 segundos."
      ]
    },
    {
      "cell_type": "code",
      "execution_count": 116,
      "metadata": {
        "id": "9rA43Sf9IefW"
      },
      "outputs": [
        {
          "name": "stdout",
          "output_type": "stream",
          "text": [
            "5 dias equivalen a 120 horas, 7200 minutos, 432000 segundos\n"
          ]
        }
      ],
      "source": [
        "d=int(input('Ingrese cantidad de dias'))\n",
        "h=d*24\n",
        "m=h*60\n",
        "s=m*60\n",
        "print(f'{d} dias equivalen a {h:02d} horas, {m:02d} minutos, {s:02d} segundos')"
      ]
    },
    {
      "cell_type": "markdown",
      "metadata": {
        "id": "CAwY6Te1XSPC"
      },
      "source": [
        "##Ejercicio 25\n",
        "Modelar los siguientes problemas, nombrando los datos relevantes y el resultado, junto con la forma\n",
        "que tendrán sus representaciones internas en Python. Luego programar la solución."
      ]
    },
    {
      "cell_type": "markdown",
      "metadata": {
        "id": "B3_79xJSXSPD"
      },
      "source": [
        ">> a. Se tienen dos habitaciones dentro de un hogar, cada una con una temperatura ambiente. Se quiere\n",
        "saber a qué temperatura estarán las habitaciones, dado suficiente tiempo para que se transmita\n",
        "el calor de una a la otra. Se conoce que en este caso es válido promediar temperaturas."
      ]
    },
    {
      "cell_type": "code",
      "execution_count": 119,
      "metadata": {
        "id": "VJs4wDx7XSPE"
      },
      "outputs": [
        {
          "name": "stdout",
          "output_type": "stream",
          "text": [
            "La temperatura de las habitaciones luego de mucho tiempo es de 17.5\n"
          ]
        }
      ],
      "source": [
        "h1=float(input('Ingrese temperatura de primer habitacion'))\n",
        "h2=float(input('Ingrese temperatura de segunda habitacion'))\n",
        "print(f'La temperatura de las habitaciones luego de mucho tiempo es de {(h1+h2)/2}')"
      ]
    },
    {
      "cell_type": "markdown",
      "metadata": {
        "id": "TnUiQ2aIXSPF"
      },
      "source": [
        ">>b. Se tiene una multitud afuera, cada persona le dirá su nombre a cada otra persona en la multitud. Se quiere saber cuánto tiempo llevará hacer esto, dado que decir una vez tu nombre lleva\n",
        "aproximadamente 4 segundos y medio."
      ]
    },
    {
      "cell_type": "code",
      "execution_count": 120,
      "metadata": {
        "id": "nqvSSasaXSPF"
      },
      "outputs": [
        {
          "name": "stdout",
          "output_type": "stream",
          "text": [
            "Decir todos los nombres de la fila lleva 72.00 segundos\n"
          ]
        }
      ],
      "source": [
        "num=int(input('Ingrese la cantidad de personas'))\n",
        "t=(num-1)*4.5\n",
        "print(f'Decir todos los nombres de la fila lleva {t:.2f} segundos')"
      ]
    },
    {
      "cell_type": "markdown",
      "metadata": {
        "id": "wlZGw6yJXSPG"
      },
      "source": [
        ">>c. Hay dos personas con nombres muy largos, pero similares. Se quiere conocer, por un lado, si tienen\n",
        "el mismo tamaño, y por otro lado si son iguales.\n",
        "\n",
        ">>Ayuda para el programa: investigar la función ```len```."
      ]
    },
    {
      "cell_type": "code",
      "execution_count": 118,
      "metadata": {
        "id": "ZGnj8m_yXSPG"
      },
      "outputs": [
        {
          "name": "stdout",
          "output_type": "stream",
          "text": [
            "Las longitudes de los nombres son iguales? True\n",
            "Los nombres son iguales? False\n"
          ]
        }
      ],
      "source": [
        "n1=input('Ingrese el nombre 1')\n",
        "n2=input('Ingrese el nombre 2')\n",
        "print(f'Las longitudes de los nombres son iguales? {len(n1)==len(n2)}')\n",
        "print(f'Los nombres son iguales? {n1==n2}')"
      ]
    },
    {
      "cell_type": "code",
      "execution_count": null,
      "metadata": {},
      "outputs": [],
      "source": []
    }
  ],
  "metadata": {
    "colab": {
      "provenance": []
    },
    "kernelspec": {
      "display_name": "Python 3",
      "name": "python3"
    },
    "language_info": {
      "codemirror_mode": {
        "name": "ipython",
        "version": 3
      },
      "file_extension": ".py",
      "mimetype": "text/x-python",
      "name": "python",
      "nbconvert_exporter": "python",
      "pygments_lexer": "ipython3",
      "version": "3.12.7"
    }
  },
  "nbformat": 4,
  "nbformat_minor": 0
}
