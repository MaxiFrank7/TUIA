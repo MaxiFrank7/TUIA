{
 "cells": [
  {
   "cell_type": "markdown",
   "id": "37309650",
   "metadata": {},
   "source": [
    "# Unidad 5 | Listas, tuplas y diccionarios\n",
    "Concepto de \"estructuras de datos\". Creación y uso de listas. Creación y uso de tuplas. Índices y slicing. Creación y uso de diccionarios. Operadores y métodos."
   ]
  },
  {
   "cell_type": "markdown",
   "id": "b3cd26ae",
   "metadata": {},
   "source": [
    "### Práctica de Listas"
   ]
  },
  {
   "cell_type": "markdown",
   "id": "d3b405f6",
   "metadata": {},
   "source": [
    "**Ejercicio 1.** Escriba los siguientes programas. Nota: No utilice los metodos index, min, max, reverse.\n"
   ]
  },
  {
   "cell_type": "markdown",
   "id": "fc101aec",
   "metadata": {},
   "source": [
    "a. Dada una lista de números list y un número n, determine en qué índice de la lista list se\n",
    "encuentra el número n. En caso de no encontrarlo, el programa mostrará -1."
   ]
  },
  {
   "cell_type": "code",
   "execution_count": null,
   "id": "a812a9b2",
   "metadata": {},
   "outputs": [
    {
     "name": "stdout",
     "output_type": "stream",
     "text": [
      "No se encuentra  el numero. -1\n"
     ]
    }
   ],
   "source": [
    "lista=[11,25,3,-4.95]\n",
    "n=float(input('Ingrese numero a buscar: '))\n",
    "if n in lista:\n",
    "    print(f'El numero se encuentra en el index {lista.index(n)}')\n",
    "else:\n",
    "    print(f'No se encuentra  el numero. -1')\n"
   ]
  },
  {
   "cell_type": "markdown",
   "id": "2e66742c",
   "metadata": {},
   "source": [
    "b. Dada una lista de números, calcule el mínimo y el máximo de la lista. Nota: es posible hacerlo\n",
    "recorriendo una única vez la lista o recorriéndola dos veces. Piense las ventajas y desventajas de\n",
    "ambos métodos"
   ]
  },
  {
   "cell_type": "code",
   "execution_count": 4,
   "id": "d239861d",
   "metadata": {},
   "outputs": [
    {
     "name": "stdout",
     "output_type": "stream",
     "text": [
      "El maximo de la lista es 95\n",
      "El minimo es -4\n"
     ]
    }
   ],
   "source": [
    "numeros = [11 ,25 ,3 , -4 ,95]\n",
    "maximo=numeros[0]\n",
    "minimo=numeros[0]\n",
    "for n in numeros:\n",
    "    if n>maximo:\n",
    "        maximo=n\n",
    "    elif n<minimo:\n",
    "        minimo=n\n",
    "print(f'El maximo de la lista es {maximo}')\n",
    "print(f'El minimo es {minimo}')"
   ]
  },
  {
   "cell_type": "markdown",
   "id": "e70bc611",
   "metadata": {},
   "source": [
    "c. Dada una lista de números, cree una nueva lista sumando 1 a cada elemento."
   ]
  },
  {
   "cell_type": "code",
   "execution_count": 6,
   "id": "faa89a7b",
   "metadata": {},
   "outputs": [
    {
     "name": "stdout",
     "output_type": "stream",
     "text": [
      "[1, 2, 3, 4, 5]\n"
     ]
    }
   ],
   "source": [
    "numeros = [0 ,1 ,2 ,3 ,4]\n",
    "lista=[]\n",
    "for n in numeros:\n",
    "    lista.append(n+1)\n",
    "print(lista)\n"
   ]
  },
  {
   "cell_type": "markdown",
   "id": "d642d2db",
   "metadata": {},
   "source": [
    "d. Dada una lista palabras de cadenas de texto, devuelva una nueva lista formada sólo por las\n",
    "cadenas de palabras que empiezan con \"a\""
   ]
  },
  {
   "cell_type": "code",
   "execution_count": 7,
   "id": "f56141c0",
   "metadata": {},
   "outputs": [
    {
     "name": "stdout",
     "output_type": "stream",
     "text": [
      "['arbol ', 'artificial ', 'a']\n"
     ]
    }
   ],
   "source": [
    "palabras = [\"arbol \", \"barco \", \"artificial \", \"casa \", \"dado \", \"a\"]\n",
    "lista=[]\n",
    "for pal in palabras:\n",
    "    for caracter in pal:\n",
    "        if caracter=='a':\n",
    "            lista.append(pal)\n",
    "        else:\n",
    "            break\n",
    "print(lista)\n"
   ]
  },
  {
   "cell_type": "markdown",
   "id": "8e3b392d",
   "metadata": {},
   "source": [
    "e. Dada una lista de números, calcule, por un lado, la suma de los elementos que se encuentran en\n",
    "un índice par en la lista y, por otro lado, el producto de los elementos de posiciones con índice\n",
    "impar"
   ]
  },
  {
   "cell_type": "code",
   "execution_count": 14,
   "id": "afaa2922",
   "metadata": {},
   "outputs": [
    {
     "name": "stdout",
     "output_type": "stream",
     "text": [
      "La suma de de índices pares es 6\n",
      "El producto de índices impares es 15\n"
     ]
    }
   ],
   "source": [
    "numeros = [0 ,1 ,2 ,3 ,4 ,5]\n",
    "par=0\n",
    "impar=1\n",
    "for i in numeros:\n",
    "    if i%2==0:\n",
    "        par+=numeros[i]\n",
    "    else:\n",
    "        impar*=numeros[i]\n",
    "print(f'La suma de de índices pares es {par}')\n",
    "print(f'El producto de índices impares es {impar}')"
   ]
  },
  {
   "cell_type": "markdown",
   "id": "70a7c942",
   "metadata": {},
   "source": [
    "f. Dada una lista cualquiera, cree una nueva lista con los mismos elementos pero en el orden inverso.\n"
   ]
  },
  {
   "cell_type": "code",
   "execution_count": 20,
   "id": "1933c90e",
   "metadata": {},
   "outputs": [
    {
     "name": "stdout",
     "output_type": "stream",
     "text": [
      "[5, 4, 3, 2, 1, 0]\n"
     ]
    }
   ],
   "source": [
    "numeros = [0 ,1 ,2 ,3 ,4 ,5]\n",
    "reversa=numeros[::-1]\n",
    "print(reversa)"
   ]
  },
  {
   "cell_type": "markdown",
   "id": "1fc6af9d",
   "metadata": {},
   "source": [
    "**Ejercicios 2.** Escriba un programa que dada una lista de números list devuelva otra lista cuyos elementos sean las\n",
    "sumas acumuladas de los elementos de list en cada posición. Es decir, una nueva lista donde el primer\n",
    "elemento es el mismo que en la lista original list, el segundo elemento es la suma del primer y segundo\n",
    "elementos de list, el tercer elemento es la suma del resultado anterior con el tercer elemento de la\n",
    "lista original y así sucesivamente. Por ejemplo, dada la lista [1, 2, 3], la suma acumulada debería\n",
    "ser [1, 3, 6]"
   ]
  },
  {
   "cell_type": "code",
   "execution_count": 31,
   "id": "aa924f44",
   "metadata": {},
   "outputs": [
    {
     "name": "stdout",
     "output_type": "stream",
     "text": [
      "[1, 3, 6]\n"
     ]
    }
   ],
   "source": [
    "lista=[1,2,3]\n",
    "acum=[]\n",
    "suma=0\n",
    "for num in lista:\n",
    "    suma+=num\n",
    "    acum.append(suma)\n",
    "print(acum)"
   ]
  },
  {
   "cell_type": "markdown",
   "id": "95f3a71f",
   "metadata": {},
   "source": [
    "**Ejercicio 3.** Escriba un programa que dada una lista determine si tiene algún elemento repetido e imprimirlos.\n",
    "Puede asumir que un numero se repite a lo sumo una vez. Pista: Utilice slicing de listas."
   ]
  },
  {
   "cell_type": "code",
   "execution_count": null,
   "id": "60e65e3c",
   "metadata": {},
   "outputs": [
    {
     "name": "stdout",
     "output_type": "stream",
     "text": [
      "[3, 5, 5, 5]\n"
     ]
    }
   ],
   "source": [
    "lista=[1,3,3,5,5,5,5,6]\n",
    "repe=[]\n",
    "for i in range(len(lista)):\n",
    "    if lista[i] in lista[i+1:]:\n",
    "        repe.append(lista[i])\n",
    "print(repe)"
   ]
  },
  {
   "cell_type": "markdown",
   "id": "b0abce4c",
   "metadata": {},
   "source": [
    "**Ejercicio 4.** Calcule los n primeros números de la secuencia de Fibonacci en una lista. Es decir, el programa\n",
    "comenzara con la lista [0,1] y computará iterativamente el siguiente número de la secuencia"
   ]
  },
  {
   "cell_type": "code",
   "execution_count": 45,
   "id": "1e50ec36",
   "metadata": {},
   "outputs": [
    {
     "name": "stdout",
     "output_type": "stream",
     "text": [
      "[0, 1, 1, 2, 3, 5, 8, 13, 21, 34, 55]\n"
     ]
    }
   ],
   "source": [
    "fibo=[0,1]\n",
    "for i in range(1,10):\n",
    "    fibo.append(fibo[-1]+fibo[-2])\n",
    "print(fibo)\n"
   ]
  },
  {
   "cell_type": "markdown",
   "id": "ebc4ca87",
   "metadata": {},
   "source": [
    "**Ejercicio 5.** El objetivo de este ejercicio es recolectar datos de personas y almacenarlos en una especie de base de\n",
    "datos. A través de lo diferentes ítems, los iremos guiando en la creación de la misma."
   ]
  },
  {
   "cell_type": "markdown",
   "id": "224ed2d0",
   "metadata": {},
   "source": [
    "a. Escribir un programa que le pida al usuario ingresar por consola los siguientes datos por separado:\n",
    "Nombre, Apellido, Localidad, Edad, DNI, Carrera universitaria en curso, año de inicio de la\n",
    "carrera. Guardar los datos en una lista llamada datos_personales e imprimirlos en pantalla."
   ]
  },
  {
   "cell_type": "code",
   "execution_count": null,
   "id": "2d815de7",
   "metadata": {},
   "outputs": [],
   "source": []
  },
  {
   "cell_type": "code",
   "execution_count": null,
   "id": "d9e6e0f2",
   "metadata": {},
   "outputs": [
    {
     "name": "stdout",
     "output_type": "stream",
     "text": [
      "['Maximiliano', 'Frank', 'San Lorenzo', 30, 38726401, 'TUIA', 2025]\n"
     ]
    }
   ],
   "source": [
    "datos=['Nombre','Apellido','Localidad','Edad','DNI','Carrera universitaria en curso','Año de inicio de la carrera']\n",
    "datos_personales=[]\n",
    "for i in range(len(datos)): #importante que cunado uso index poner el range(len(lista))\n",
    "    rta=input(f'Cual es su {datos[i]}?') \n",
    "    if i==3 or i==4 or i==6: #datos[i] in ['Edad','DNI','Año de inicio de la carrera']:\n",
    "        rta=int(rta)\n",
    "    datos_personales.append(rta)\n",
    "print(datos_personales)\n"
   ]
  },
  {
   "cell_type": "markdown",
   "id": "ccf0aecd",
   "metadata": {},
   "source": [
    "b. A partir de la lista del ejercicio anterior, genere un programa que calcule los años que la persona\n",
    "lleva cursando la carrera y lo agregue a la lista. Por ejemplo, si la persona inició su carrera en el\n",
    "2019, la cantidad de años cursados a agregar es 4. Finalmente, imprima una frase que indique el nombre, el apellido y cantidad de años cursados de\n",
    "la persona"
   ]
  },
  {
   "cell_type": "code",
   "execution_count": 52,
   "id": "50725ae0",
   "metadata": {},
   "outputs": [
    {
     "name": "stdout",
     "output_type": "stream",
     "text": [
      "La estudiante se llama Vicky Martinez, y lleva cursando la carrera Psicologia 3 años\n"
     ]
    }
   ],
   "source": [
    "datos=['Nombre','Apellido','Localidad','Edad','DNI','Carrera universitaria en curso','Año de inicio de la carrera']\n",
    "datos_personales=[]\n",
    "for i in range(len(datos)): #importante que cunado uso index poner el range(len(lista))\n",
    "    rta=input(f'Cual es su {datos[i]}?') \n",
    "    if i==3 or i==4 or i==6: #if datos[i] in ['Edad','DNI','Año de inicio de la carrera']:\n",
    "        rta=int(rta)\n",
    "    datos_personales.append(rta)\n",
    "datos_personales.append((2025-(datos_personales[-1])))\n",
    "print(f'La estudiante se llama {datos_personales[0]} {datos_personales[1]}, y lleva cursando la carrera {datos_personales[-3]} {datos_personales[-1]} años')"
   ]
  },
  {
   "cell_type": "markdown",
   "id": "2dc6a217",
   "metadata": {},
   "source": [
    "c. Utilice el código de los ítems de arriba y automatice la recolección de datos para una cantidad de\n",
    "personas desconocidas. El resultado de este ejercicio debe ser una lista llamada basedatos donde\n",
    "se almacenarán las listas datos_personales de cada individuo que se recolecten"
   ]
  },
  {
   "cell_type": "code",
   "execution_count": null,
   "id": "64872875",
   "metadata": {},
   "outputs": [
    {
     "name": "stdout",
     "output_type": "stream",
     "text": [
      "['Maxi', 'Frank', 'san lo', 30, 38383838, 'TUIA', 2025, 0]\n",
      "['Vicky', 'Martinez', 'rosario', 20, 4545454, 'Psicologia', 2022, 3]\n"
     ]
    }
   ],
   "source": [
    "base_de_datos=[]\n",
    "datos=['Nombre','Apellido','Localidad','Edad','DNI','Carrera universitaria en curso','Año de inicio de la carrera']\n",
    "while True:\n",
    "    preg=input(f'Desea ingresar datos de estudiantes? (Enter para salir:) ')\n",
    "    \n",
    "    if preg!='':\n",
    "        datos_personales=[] #inicia dentro del bucle para que cada vez que se quiera ingresar datos empieza lista vacia\n",
    "        \n",
    "        for i in range(len(datos)): #importante que cunado uso index poner el range(len(lista))\n",
    "            rta=input(f'Cual es su {datos[i]}?') \n",
    "            if i==3 or i==4 or i==6: #if datos[i] in ['Edad','DNI','Año de inicio de la carrera']:\n",
    "                rta=int(rta)\n",
    "            datos_personales.append(rta)\n",
    "        \n",
    "        datos_personales.append((2025-(datos_personales[-1])))\n",
    "        base_de_datos.append(datos_personales)\n",
    "   \n",
    "    else:\n",
    "        break\n",
    "\n",
    "for persona in base_de_datos: # Mostrar base de datos (opcional)\n",
    "    print(persona)"
   ]
  },
  {
   "cell_type": "markdown",
   "id": "4a9ec2ce",
   "metadata": {},
   "source": [
    "**NO** pregunta cada vez si quiero ingresar datos, sino que ingreso directamente nombre o enter para salir"
   ]
  },
  {
   "cell_type": "code",
   "execution_count": null,
   "id": "2236158c",
   "metadata": {},
   "outputs": [
    {
     "name": "stdout",
     "output_type": "stream",
     "text": [
      "['Maxi', 'Frank', 'San Lorenzo', 30, 38726401, 'TUIA', 2025, 0]\n",
      "['Vicky', 'Martinez', 'Rosario', 20, 45830260, 'Psicologia', 2022, 3]\n"
     ]
    }
   ],
   "source": [
    "base_de_datos = []\n",
    "datos = ['Apellido', 'Localidad', 'Edad', 'DNI', 'Carrera universitaria en curso', 'Año de inicio de la carrera']\n",
    "nombre = input('Ingrese el NOMBRE del estudiante (Enter para salir): ') \n",
    "\n",
    "while nombre!='':\n",
    "    datos_personales = [nombre]  # El nombre se carga primero\n",
    "\n",
    "    for i in range(len(datos)):\n",
    "        rta = input(f'¿Cuál es su {datos[i]}? ')\n",
    "        if datos[i] in ['Edad', 'DNI', 'Año de inicio de la carrera']:\n",
    "            rta = int(rta)\n",
    "        datos_personales.append(rta)\n",
    "\n",
    "    # Cálculo de años cursados (asumiendo 2025 como año actual)\n",
    "    años_cursados = 2025 - datos_personales[-1]  # Último campo es el año de inicio\n",
    "    datos_personales.append(años_cursados)\n",
    "\n",
    "    base_de_datos.append(datos_personales)\n",
    "    \n",
    "    nombre = input('Ingrese el NOMBRE del estudiante (Enter para salir): ') #vuelve a preguntar nombre de nueva persona\n",
    "\n",
    "\n",
    "for persona in base_de_datos: # Mostrar base de datos (opcional)\n",
    "    print(persona)"
   ]
  },
  {
   "cell_type": "markdown",
   "id": "46dd1320",
   "metadata": {},
   "source": [
    "d. Realice un programa que modifique para cada persona la carrera en curso por la palabra \"TUIA\"."
   ]
  },
  {
   "cell_type": "code",
   "execution_count": 58,
   "id": "aa3e3fa9",
   "metadata": {},
   "outputs": [
    {
     "name": "stdout",
     "output_type": "stream",
     "text": [
      "[['Maxi', 'Frank', 'San Lorenzo', 30, 38726401, 'TUIA', 2025, 0], ['Vicky', 'Martinez', 'Rosario', 20, 45830260, 'TUIA', 2022, 3]]\n"
     ]
    }
   ],
   "source": [
    "for persona in base_de_datos:\n",
    "    persona[5] = \"TUIA\"\n",
    "print(base_de_datos) "
   ]
  },
  {
   "cell_type": "markdown",
   "id": "966d0d65",
   "metadata": {},
   "source": [
    "### Práctica de Tuplas"
   ]
  },
  {
   "cell_type": "markdown",
   "id": "2ba0a5b2",
   "metadata": {},
   "source": [
    "**Ejercicio 6.** Cartas como tuplas.\n",
    "\n",
    "a. Proponer una representación con tuplas para las cartas de la baraja francesa."
   ]
  },
  {
   "cell_type": "code",
   "execution_count": 8,
   "id": "96e4c757",
   "metadata": {},
   "outputs": [
    {
     "name": "stdout",
     "output_type": "stream",
     "text": [
      "(('As', 'picas'), (2, 'picas'), (3, 'picas'), (4, 'picas'), (5, 'picas'), (6, 'picas'), (7, 'picas'), (8, 'picas'), (9, 'picas'), (10, 'picas'), ('J', 'picas'), ('Q', 'picas'), ('K', 'picas'), ('As', 'diamantes'), (2, 'diamantes'), (3, 'diamantes'), (4, 'diamantes'), (5, 'diamantes'), (6, 'diamantes'), (7, 'diamantes'), (8, 'diamantes'), (9, 'diamantes'), (10, 'diamantes'), ('J', 'diamantes'), ('Q', 'diamantes'), ('K', 'diamantes'), ('As', 'corazones'), (2, 'corazones'), (3, 'corazones'), (4, 'corazones'), (5, 'corazones'), (6, 'corazones'), (7, 'corazones'), (8, 'corazones'), (9, 'corazones'), (10, 'corazones'), ('J', 'corazones'), ('Q', 'corazones'), ('K', 'corazones'), ('As', 'trebol'), (2, 'trebol'), (3, 'trebol'), (4, 'trebol'), (5, 'trebol'), (6, 'trebol'), (7, 'trebol'), (8, 'trebol'), (9, 'trebol'), (10, 'trebol'), ('J', 'trebol'), ('Q', 'trebol'), ('K', 'trebol'))\n"
     ]
    }
   ],
   "source": [
    "valores=['As']+list(range(2,11))+['J','Q','K']\n",
    "palos=['picas','diamantes','corazones','trebol']\n",
    "mazo=[]\n",
    "for palo in palos:\n",
    "    for valor in valores:\n",
    "        mazo.append((valor,palo))\n",
    "baraja=tuple(mazo)\n",
    "print(baraja)"
   ]
  },
  {
   "cell_type": "markdown",
   "id": "86d77ade",
   "metadata": {},
   "source": [
    "b. Escribir un programa de poker que reciba cinco cartas de la baraja francesa e informe (devuelva\n",
    "el valor lógico correspondiente) si esas cartas forman o no un poker (es decir que hay 4 cartas con\n",
    "el mismo número)."
   ]
  },
  {
   "cell_type": "code",
   "execution_count": null,
   "id": "e411feb9",
   "metadata": {},
   "outputs": [],
   "source": []
  },
  {
   "cell_type": "markdown",
   "id": "2eefcd01",
   "metadata": {},
   "source": [
    "**Ejercicio 7.** El tiempo como tuplas.\n",
    "\n",
    "a. Proponer una representación con tuplas para representar el tiempo.\n"
   ]
  },
  {
   "cell_type": "markdown",
   "id": "a00f73a3",
   "metadata": {},
   "source": [
    "b. Escribir un programa que reciba dos tiempos dados y devuelva su suma."
   ]
  },
  {
   "cell_type": "markdown",
   "id": "4aa06c9c",
   "metadata": {},
   "source": [
    "**Ejercicio 8.** Escribir un programa que dada una fecha expresada como la terna (Día, Mes, Año) (donde Día, Mes\n",
    "y Año son números enteros) calcule el día siguiente al dado, en el mismo formato"
   ]
  },
  {
   "cell_type": "markdown",
   "id": "c3c8a67b",
   "metadata": {},
   "source": [
    "**Ejercicio 9.** Escribir un programa que dada una fecha expresada como la terna (Día, Mes, Año) (donde Día y Año\n",
    "son números enteros, y Mes es el texto \"Ene\", \"Feb\",. . ., \"Dic\", según corresponda) calcule el\n",
    "día siguiente al dado, en el mismo formato."
   ]
  },
  {
   "cell_type": "markdown",
   "id": "9f91b5ff",
   "metadata": {},
   "source": [
    "**Ejercicio 10.** Un analista económico utiliza un programa que toma desde una tupla valores de la cotización en pesos\n",
    "del dolar blue en los últimos 5 días:\n",
    "\n",
    "dolarBlue = ( \"189 \",\" 1930 \",\" 187 \",\" 210 \",\" 202 \")\n",
    "\n",
    "con el propósito de utilizarlos en un determinado informe. El programador se ha dado cuenta que\n",
    "necesita modificar la segunda posición del mismo, porque hay un error de entrada del dato. ¿Qué\n",
    "solución propone para enmendar este problema?."
   ]
  },
  {
   "cell_type": "markdown",
   "id": "18949913",
   "metadata": {},
   "source": [
    "**Ejercicio 11.** Dada una lista de tuplas donde el elemento en la posición 0 es el DNI de la persona y en la posición 1\n",
    "es el ingreso, identificar todas las personas cuyo ingreso es:\n",
    "\n",
    "a. Menor que el salario mínimo, vital y móvil (SMVM)\n",
    "\n",
    "b. Entre un SMVM y dos SMVM\n",
    "\n",
    "c. Entre dos SMVM y 4 SMVM\n",
    "\n",
    "d. Mayor a 4 SMVM\n",
    "\n",
    "Crear una lista de tuplas donde el primer elemento indica el rango de ingresos y el segundo elemento\n",
    "la cantidad de personas en ese segmento"
   ]
  },
  {
   "cell_type": "markdown",
   "id": "72b23f32",
   "metadata": {},
   "source": [
    "### Práctica de Diccionarios"
   ]
  },
  {
   "cell_type": "markdown",
   "id": "ec26c29a",
   "metadata": {},
   "source": [
    "**Ejercicio 12.** Escribe un programa que lea una cadena y devuelva un diccionario con la cantidad de apariciones de\n",
    "cada palabra en la cadena. "
   ]
  },
  {
   "cell_type": "code",
   "execution_count": 5,
   "id": "b93087e8",
   "metadata": {},
   "outputs": [
    {
     "data": {
      "text/plain": [
       "{'paren': 1, 'la': 2, 'mano': 1, 'es': 1, 'mi': 1, 'mejor': 1, 'amigo': 1}"
      ]
     },
     "execution_count": 5,
     "metadata": {},
     "output_type": "execute_result"
    }
   ],
   "source": [
    "def conteo(frase:str)->dict:\n",
    "    conteo=dict()\n",
    "    frase=frase.split()\n",
    "    for palabra in frase:\n",
    "        if palabra in conteo:\n",
    "            conteo[palabra]+=1\n",
    "        else:\n",
    "            conteo[palabra]=1\n",
    "    return conteo\n",
    "\n",
    "conteo('paren la la mano es mi mejor amigo')"
   ]
  },
  {
   "cell_type": "markdown",
   "id": "c6761b9f",
   "metadata": {},
   "source": [
    "**Ejercicio 13.** Escribir un programa que toma una lista de tuplas con el formato (Alumno, Nota) donde alumno es\n",
    "una cadena con el nombre del alumno y nota es un número.\n",
    "Ejemplo: [(’Perez’, 8), (’Gonzalez’, 10), (’Fernandez’, 10)]\n",
    "\n",
    "a. Crear un diccionario donde las claves son los alumnos y el valor asociado una lista que contenga\n",
    "las notas del alumno.\n",
    "\n",
    "Ejemplo_dict = { 'Perez ': [8] , 'Gonzalez ': [10] , 'Fernandez ': [10]}\n"
   ]
  },
  {
   "cell_type": "markdown",
   "id": "5ef148a7",
   "metadata": {},
   "source": [
    "b. Crear un diccionario donde las claves son las notas y el valor asociado una lista que contenga los\n",
    "alumnos que obtuvieron esa nota en un parcial\n",
    "\n",
    "Ejemplo_dict2 = {8: [ 'Perez '], 10: ['Gonzalez ', 'Fernandez ']}"
   ]
  },
  {
   "cell_type": "markdown",
   "id": "df360538",
   "metadata": {},
   "source": [
    "**Ejercicio 14.** Escribir un programa que recibe un diccionario que tiene como llave a alumnos y los valores asociados\n",
    "una lista con las notas de parciales de los alumnos. El programa debe calcular el promedio de cada\n",
    "alumno e imprimirlo en pantalla. Por ejemplo para\n",
    "\n",
    "alumnos = {\" Juan \": [6 ,9 ,8] , \" Manuel \": [9 ,10 ,9] , \" Martin \": [5 ,6 ,7]}\n",
    "\n",
    "Debería mostrar\n",
    "\n",
    "El promedio de Juan es 7.666666\n",
    "\n",
    "El promedio de Manuel es 9.333333\n",
    "\n",
    "El promedio de Martin es 6"
   ]
  },
  {
   "cell_type": "markdown",
   "id": "8322bbf2",
   "metadata": {},
   "source": [
    "**Ejercicio 15.** Repita el ejercicio 3 pero utilizando un diccionario. Ahora un número puede repetirse varias veces.\n"
   ]
  },
  {
   "cell_type": "markdown",
   "id": "0aa26a0a",
   "metadata": {},
   "source": [
    "**Ejercicio 16.** Dadas dos listas donde la primera contiene nombres de personas y la segunda sus edades, generar un\n",
    "diccionario a partir de ellas. Investigar cómo la función zip() puede ayudar en la resolución\n"
   ]
  },
  {
   "cell_type": "markdown",
   "id": "cac6cafe",
   "metadata": {},
   "source": [
    "**Ejercicio 17.** Dado un diccionario donde la clave es el DNI (formato cadena) y el valor es la cantidad de dosis de\n",
    "vacunas contra el covid, filtrar del mismo las personas que tienen 2 dosis y guardarlas en la estructura\n",
    "de datos que crea conveniente. Esta información será uilizada para recordarles que ya tienen disponible\n",
    "la tercera dosis."
   ]
  },
  {
   "cell_type": "markdown",
   "id": "20fcc0fb",
   "metadata": {},
   "source": [
    "**Ejercicio 18.** Un investigador de historia de la informática encontró un documento sin membrete, que data de\n",
    "mitad de siglo XX, e incluye un mensaje en código morse que sospecha explicaría importantes sucesos\n",
    "históricos de la posteridad. Por lo tanto, para avanzar en su investigación es necesario descifrarlo, pero\n",
    "no sabe el código. Dado el siguiente diccionario que permite descifrar un mensaje morse, ayude al\n",
    "investigador en su tarea mediante un programa que le permita decodificar el mensaje."
   ]
  },
  {
   "cell_type": "code",
   "execution_count": null,
   "id": "18d88e28",
   "metadata": {},
   "outputs": [],
   "source": [
    "morse = {\n",
    "'A': '.-', 'B': ' -... ', 'C': ' -.-. ',\n",
    "'D': ' -.. ', 'E': '.', 'F': '.. -. ',\n",
    "'G': ' --.', 'H': '.... ', 'I': '.. ',\n",
    "'J': '.---', 'K': ' -.-', 'L': '. -.. ',\n",
    "'M': '--', 'N': ' -.', 'O': '---',\n",
    "'P': '.--. ', 'Q': ' --.-', 'R': '.-. ',\n",
    "'S': '... ', 'T': '-', 'U': '..- ',\n",
    "'V': '... - ', 'W': '.--', 'X': ' -..- ',\n",
    "'Y': ' -.--', 'Z': ' --.. ', '1': '.----',\n",
    "'2': '..--- ', '3': '...- - ', '4': '.... - ',\n",
    "'5': '..... ', '6': ' -.... ', '7': ' --... ',\n",
    "'8': ' ---.. ', '9': ' ----.', '0': ' -----',\n",
    "'.': '.-.-.- ', ',': ' --..-- ', ':': ' ---... ',\n",
    "';': ' -.-.-. ', '?': '.. - -.. ', '!': ' -.-.-- ',\n",
    "'\"': '. -.. -. ', \"'\": '.----. ', '+': '.-.-. ',\n",
    "'-': ' -.... - ', '/': ' -..-. ', '=': ' -...- ',\n",
    "'_': '..--.- ', '$': '... -.. - ', '@': '.--.-. ',\n",
    "'&': '. -... ', '(': ' -.--. ', ')': ' -.--.- '\n",
    "}"
   ]
  },
  {
   "cell_type": "markdown",
   "id": "6d2d3666",
   "metadata": {},
   "source": [
    "Codigo:"
   ]
  },
  {
   "cell_type": "code",
   "execution_count": null,
   "id": "458fffdd",
   "metadata": {},
   "outputs": [],
   "source": [
    "['.', ' -.', '..--.- ', '.', '. -.. ', '..--.- ', '.. -. ', '..- ', '-', '..- ',\n",
    "'.-. ', '---', '..--.- ', '.', '... ', '..--.- ', '.--. ', '---', '... ',\n",
    "'.. ', ' -... ', '. -.. ', '.', '..--.- ', ' --.-', '..- ', '.', '..--.- ',\n",
    "'. -.. ', '---', '... ', '..--.- ', '---', '.-. ', ' -.. ', '.', ' -.',\n",
    "'.-', ' -.. ', '---', '.-. ', '.', '... ', '..--.- ', ' -.', '---',\n",
    "'..--.- ', '.--. ', '.', '... ', '.', ' -.', '..--.- ', '--', '.-',\n",
    "'... ', '..--.- ', ' -.. ', '.', '..--.- ', '.----', ' --..-- ', '..... ',\n",
    "'..--.- ', '-', '---', ' -.', '.', '. -.. ', '.-', ' -.. ', '.-', '... ',\n",
    "'.-.-.- ', '..--.- ', ' -.... - ', ' -.... - ', '..--.- ', '.--. ', '---',\n",
    "'.--. ', '..- ', '. -.. ', '.-', '.-. ', '..--.- ', '--', '.', ' -.-. ',\n",
    "'.... ', '.--. ', '.. ', ' -.-. ', '... ', ' --..-- ', '..--.- ', '.----',\n",
    "' ----.', '.... - ', ' ----.', ' ---... ']"
   ]
  },
  {
   "cell_type": "markdown",
   "id": "e48a9c3b",
   "metadata": {},
   "source": [
    "**Ejercicio 19.** Cada profe de programación 1 tiene un diccionario donde guarda el legajo de cada alumne en la clave\n",
    "y una lista con las notas de cada persona en el valor. Al cerrar el cuatrimestre, necesitan pasarle a\n",
    "alumnado un solo diccionario con estos datos, generarlo. Revisar el método .update() para ver como\n",
    "puede ayudarte a resolver el problema. Los diccionarios de cada comisión se ven así"
   ]
  },
  {
   "cell_type": "code",
   "execution_count": null,
   "id": "bf7e28c3",
   "metadata": {},
   "outputs": [],
   "source": [
    "com1 = {'legajo_11 ': [6, 7, 8] ,... , 'legajo_1m ': [3, 8, 9]}\n",
    "com2 = {'legajo_21 ': [6, 7, 8] ,... , 'legajo_2n ': [3, 8, 9]}\n",
    "com3 = {'legajo_31 ': [6, 7, 8] ,... , 'legajo_3j ': [3, 8, 9]}\n",
    "com4 = {'legajo_41 ': [6, 7, 8] ,... , 'legajo_4k ': [3, 8, 9]}"
   ]
  },
  {
   "cell_type": "markdown",
   "id": "98fc58bb",
   "metadata": {},
   "source": [
    "El diccionario final debería verse así:"
   ]
  },
  {
   "cell_type": "code",
   "execution_count": null,
   "id": "bdba3101",
   "metadata": {},
   "outputs": [],
   "source": [
    "prog_1 = {'legajo_11 ': [6, 7, 8] ,... , 'legajo_1m ': [3, 8, 9],\n",
    "'legajo_21 ': [6, 7, 8] ,.. , 'legajo_2n ': [3, 8, 9],\n",
    "'legajo_31 ': [6, 7, 8]... , 'legajo_3j ': [3, 8, 9],\n",
    "'legajo_41 ': [6, 7, 8] ,... , 'legajo_4k ': [3, 8, 9]}"
   ]
  }
 ],
 "metadata": {
  "kernelspec": {
   "display_name": "Python 3",
   "language": "python",
   "name": "python3"
  },
  "language_info": {
   "codemirror_mode": {
    "name": "ipython",
    "version": 3
   },
   "file_extension": ".py",
   "mimetype": "text/x-python",
   "name": "python",
   "nbconvert_exporter": "python",
   "pygments_lexer": "ipython3",
   "version": "3.12.7"
  }
 },
 "nbformat": 4,
 "nbformat_minor": 5
}
